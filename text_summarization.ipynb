{
  "cells": [
    {
      "cell_type": "markdown",
      "metadata": {
        "id": "view-in-github",
        "colab_type": "text"
      },
      "source": [
        "<a href=\"https://colab.research.google.com/github/classic-21/Text-Summarization/blob/main/text_summarization.ipynb\" target=\"_parent\"><img src=\"https://colab.research.google.com/assets/colab-badge.svg\" alt=\"Open In Colab\"/></a>"
      ]
    },
    {
      "cell_type": "code",
      "execution_count": null,
      "metadata": {
        "id": "BcYvrCt4Mzwa"
      },
      "outputs": [],
      "source": [
        "import numpy as np\n",
        "import pandas as pd\n",
        "import re\n",
        "from bs4 import BeautifulSoup\n",
        "from keras.preprocessing.text import Tokenizer\n",
        "from keras.preprocessing.text import one_hot\n",
        "from keras.preprocessing.sequence import pad_sequences\n",
        "from tensorflow.keras.callbacks import EarlyStopping\n",
        "from nltk.corpus import stopwords\n",
        "from tensorflow.keras.layers import Input, LSTM, Embedding, Dense, Concatenate, TimeDistributed\n",
        "from tensorflow.keras.models import Model\n",
        "from sklearn.model_selection import train_test_split\n",
        "from attention import AttentionLayer"
      ]
    },
    {
      "cell_type": "code",
      "execution_count": null,
      "metadata": {
        "id": "FzOIOQ6RQCH6"
      },
      "outputs": [],
      "source": [
        "df = pd.read_csv(\"summary_text.txt\", encoding='ISO-8859-1', nrows = 20000)"
      ]
    },
    {
      "cell_type": "code",
      "execution_count": null,
      "metadata": {
        "colab": {
          "base_uri": "https://localhost:8080/",
          "height": 206
        },
        "id": "AGLv-qsSQJwl",
        "outputId": "59a941ca-a1ec-4203-ac1e-30255ea8b490"
      },
      "outputs": [
        {
          "output_type": "execute_result",
          "data": {
            "text/plain": [
              "                                           headlines  \\\n",
              "0  upGrad learner switches to career in ML & Al w...   \n",
              "1  Delhi techie wins free food from Swiggy for on...   \n",
              "2  New Zealand end Rohit Sharma-led India's 12-ma...   \n",
              "3  Aegon life iTerm insurance plan helps customer...   \n",
              "4  Have known Hirani for yrs, what if MeToo claim...   \n",
              "\n",
              "                                                text  \n",
              "0  Saurav Kant, an alumnus of upGrad and IIIT-B's...  \n",
              "1  Kunal Shah's credit card bill payment platform...  \n",
              "2  New Zealand defeated India by 8 wickets in the...  \n",
              "3  With Aegon Life iTerm Insurance plan, customer...  \n",
              "4  Speaking about the sexual harassment allegatio...  "
            ],
            "text/html": [
              "\n",
              "  <div id=\"df-a3a6b26c-02fe-4a8b-9680-799649f2274d\" class=\"colab-df-container\">\n",
              "    <div>\n",
              "<style scoped>\n",
              "    .dataframe tbody tr th:only-of-type {\n",
              "        vertical-align: middle;\n",
              "    }\n",
              "\n",
              "    .dataframe tbody tr th {\n",
              "        vertical-align: top;\n",
              "    }\n",
              "\n",
              "    .dataframe thead th {\n",
              "        text-align: right;\n",
              "    }\n",
              "</style>\n",
              "<table border=\"1\" class=\"dataframe\">\n",
              "  <thead>\n",
              "    <tr style=\"text-align: right;\">\n",
              "      <th></th>\n",
              "      <th>headlines</th>\n",
              "      <th>text</th>\n",
              "    </tr>\n",
              "  </thead>\n",
              "  <tbody>\n",
              "    <tr>\n",
              "      <th>0</th>\n",
              "      <td>upGrad learner switches to career in ML &amp; Al w...</td>\n",
              "      <td>Saurav Kant, an alumnus of upGrad and IIIT-B's...</td>\n",
              "    </tr>\n",
              "    <tr>\n",
              "      <th>1</th>\n",
              "      <td>Delhi techie wins free food from Swiggy for on...</td>\n",
              "      <td>Kunal Shah's credit card bill payment platform...</td>\n",
              "    </tr>\n",
              "    <tr>\n",
              "      <th>2</th>\n",
              "      <td>New Zealand end Rohit Sharma-led India's 12-ma...</td>\n",
              "      <td>New Zealand defeated India by 8 wickets in the...</td>\n",
              "    </tr>\n",
              "    <tr>\n",
              "      <th>3</th>\n",
              "      <td>Aegon life iTerm insurance plan helps customer...</td>\n",
              "      <td>With Aegon Life iTerm Insurance plan, customer...</td>\n",
              "    </tr>\n",
              "    <tr>\n",
              "      <th>4</th>\n",
              "      <td>Have known Hirani for yrs, what if MeToo claim...</td>\n",
              "      <td>Speaking about the sexual harassment allegatio...</td>\n",
              "    </tr>\n",
              "  </tbody>\n",
              "</table>\n",
              "</div>\n",
              "    <div class=\"colab-df-buttons\">\n",
              "\n",
              "  <div class=\"colab-df-container\">\n",
              "    <button class=\"colab-df-convert\" onclick=\"convertToInteractive('df-a3a6b26c-02fe-4a8b-9680-799649f2274d')\"\n",
              "            title=\"Convert this dataframe to an interactive table.\"\n",
              "            style=\"display:none;\">\n",
              "\n",
              "  <svg xmlns=\"http://www.w3.org/2000/svg\" height=\"24px\" viewBox=\"0 -960 960 960\">\n",
              "    <path d=\"M120-120v-720h720v720H120Zm60-500h600v-160H180v160Zm220 220h160v-160H400v160Zm0 220h160v-160H400v160ZM180-400h160v-160H180v160Zm440 0h160v-160H620v160ZM180-180h160v-160H180v160Zm440 0h160v-160H620v160Z\"/>\n",
              "  </svg>\n",
              "    </button>\n",
              "\n",
              "  <style>\n",
              "    .colab-df-container {\n",
              "      display:flex;\n",
              "      gap: 12px;\n",
              "    }\n",
              "\n",
              "    .colab-df-convert {\n",
              "      background-color: #E8F0FE;\n",
              "      border: none;\n",
              "      border-radius: 50%;\n",
              "      cursor: pointer;\n",
              "      display: none;\n",
              "      fill: #1967D2;\n",
              "      height: 32px;\n",
              "      padding: 0 0 0 0;\n",
              "      width: 32px;\n",
              "    }\n",
              "\n",
              "    .colab-df-convert:hover {\n",
              "      background-color: #E2EBFA;\n",
              "      box-shadow: 0px 1px 2px rgba(60, 64, 67, 0.3), 0px 1px 3px 1px rgba(60, 64, 67, 0.15);\n",
              "      fill: #174EA6;\n",
              "    }\n",
              "\n",
              "    .colab-df-buttons div {\n",
              "      margin-bottom: 4px;\n",
              "    }\n",
              "\n",
              "    [theme=dark] .colab-df-convert {\n",
              "      background-color: #3B4455;\n",
              "      fill: #D2E3FC;\n",
              "    }\n",
              "\n",
              "    [theme=dark] .colab-df-convert:hover {\n",
              "      background-color: #434B5C;\n",
              "      box-shadow: 0px 1px 3px 1px rgba(0, 0, 0, 0.15);\n",
              "      filter: drop-shadow(0px 1px 2px rgba(0, 0, 0, 0.3));\n",
              "      fill: #FFFFFF;\n",
              "    }\n",
              "  </style>\n",
              "\n",
              "    <script>\n",
              "      const buttonEl =\n",
              "        document.querySelector('#df-a3a6b26c-02fe-4a8b-9680-799649f2274d button.colab-df-convert');\n",
              "      buttonEl.style.display =\n",
              "        google.colab.kernel.accessAllowed ? 'block' : 'none';\n",
              "\n",
              "      async function convertToInteractive(key) {\n",
              "        const element = document.querySelector('#df-a3a6b26c-02fe-4a8b-9680-799649f2274d');\n",
              "        const dataTable =\n",
              "          await google.colab.kernel.invokeFunction('convertToInteractive',\n",
              "                                                    [key], {});\n",
              "        if (!dataTable) return;\n",
              "\n",
              "        const docLinkHtml = 'Like what you see? Visit the ' +\n",
              "          '<a target=\"_blank\" href=https://colab.research.google.com/notebooks/data_table.ipynb>data table notebook</a>'\n",
              "          + ' to learn more about interactive tables.';\n",
              "        element.innerHTML = '';\n",
              "        dataTable['output_type'] = 'display_data';\n",
              "        await google.colab.output.renderOutput(dataTable, element);\n",
              "        const docLink = document.createElement('div');\n",
              "        docLink.innerHTML = docLinkHtml;\n",
              "        element.appendChild(docLink);\n",
              "      }\n",
              "    </script>\n",
              "  </div>\n",
              "\n",
              "\n",
              "<div id=\"df-b43fedc0-78ad-4bc7-b0f3-6abb0408fde5\">\n",
              "  <button class=\"colab-df-quickchart\" onclick=\"quickchart('df-b43fedc0-78ad-4bc7-b0f3-6abb0408fde5')\"\n",
              "            title=\"Suggest charts\"\n",
              "            style=\"display:none;\">\n",
              "\n",
              "<svg xmlns=\"http://www.w3.org/2000/svg\" height=\"24px\"viewBox=\"0 0 24 24\"\n",
              "     width=\"24px\">\n",
              "    <g>\n",
              "        <path d=\"M19 3H5c-1.1 0-2 .9-2 2v14c0 1.1.9 2 2 2h14c1.1 0 2-.9 2-2V5c0-1.1-.9-2-2-2zM9 17H7v-7h2v7zm4 0h-2V7h2v10zm4 0h-2v-4h2v4z\"/>\n",
              "    </g>\n",
              "</svg>\n",
              "  </button>\n",
              "\n",
              "<style>\n",
              "  .colab-df-quickchart {\n",
              "      --bg-color: #E8F0FE;\n",
              "      --fill-color: #1967D2;\n",
              "      --hover-bg-color: #E2EBFA;\n",
              "      --hover-fill-color: #174EA6;\n",
              "      --disabled-fill-color: #AAA;\n",
              "      --disabled-bg-color: #DDD;\n",
              "  }\n",
              "\n",
              "  [theme=dark] .colab-df-quickchart {\n",
              "      --bg-color: #3B4455;\n",
              "      --fill-color: #D2E3FC;\n",
              "      --hover-bg-color: #434B5C;\n",
              "      --hover-fill-color: #FFFFFF;\n",
              "      --disabled-bg-color: #3B4455;\n",
              "      --disabled-fill-color: #666;\n",
              "  }\n",
              "\n",
              "  .colab-df-quickchart {\n",
              "    background-color: var(--bg-color);\n",
              "    border: none;\n",
              "    border-radius: 50%;\n",
              "    cursor: pointer;\n",
              "    display: none;\n",
              "    fill: var(--fill-color);\n",
              "    height: 32px;\n",
              "    padding: 0;\n",
              "    width: 32px;\n",
              "  }\n",
              "\n",
              "  .colab-df-quickchart:hover {\n",
              "    background-color: var(--hover-bg-color);\n",
              "    box-shadow: 0 1px 2px rgba(60, 64, 67, 0.3), 0 1px 3px 1px rgba(60, 64, 67, 0.15);\n",
              "    fill: var(--button-hover-fill-color);\n",
              "  }\n",
              "\n",
              "  .colab-df-quickchart-complete:disabled,\n",
              "  .colab-df-quickchart-complete:disabled:hover {\n",
              "    background-color: var(--disabled-bg-color);\n",
              "    fill: var(--disabled-fill-color);\n",
              "    box-shadow: none;\n",
              "  }\n",
              "\n",
              "  .colab-df-spinner {\n",
              "    border: 2px solid var(--fill-color);\n",
              "    border-color: transparent;\n",
              "    border-bottom-color: var(--fill-color);\n",
              "    animation:\n",
              "      spin 1s steps(1) infinite;\n",
              "  }\n",
              "\n",
              "  @keyframes spin {\n",
              "    0% {\n",
              "      border-color: transparent;\n",
              "      border-bottom-color: var(--fill-color);\n",
              "      border-left-color: var(--fill-color);\n",
              "    }\n",
              "    20% {\n",
              "      border-color: transparent;\n",
              "      border-left-color: var(--fill-color);\n",
              "      border-top-color: var(--fill-color);\n",
              "    }\n",
              "    30% {\n",
              "      border-color: transparent;\n",
              "      border-left-color: var(--fill-color);\n",
              "      border-top-color: var(--fill-color);\n",
              "      border-right-color: var(--fill-color);\n",
              "    }\n",
              "    40% {\n",
              "      border-color: transparent;\n",
              "      border-right-color: var(--fill-color);\n",
              "      border-top-color: var(--fill-color);\n",
              "    }\n",
              "    60% {\n",
              "      border-color: transparent;\n",
              "      border-right-color: var(--fill-color);\n",
              "    }\n",
              "    80% {\n",
              "      border-color: transparent;\n",
              "      border-right-color: var(--fill-color);\n",
              "      border-bottom-color: var(--fill-color);\n",
              "    }\n",
              "    90% {\n",
              "      border-color: transparent;\n",
              "      border-bottom-color: var(--fill-color);\n",
              "    }\n",
              "  }\n",
              "</style>\n",
              "\n",
              "  <script>\n",
              "    async function quickchart(key) {\n",
              "      const quickchartButtonEl =\n",
              "        document.querySelector('#' + key + ' button');\n",
              "      quickchartButtonEl.disabled = true;  // To prevent multiple clicks.\n",
              "      quickchartButtonEl.classList.add('colab-df-spinner');\n",
              "      try {\n",
              "        const charts = await google.colab.kernel.invokeFunction(\n",
              "            'suggestCharts', [key], {});\n",
              "      } catch (error) {\n",
              "        console.error('Error during call to suggestCharts:', error);\n",
              "      }\n",
              "      quickchartButtonEl.classList.remove('colab-df-spinner');\n",
              "      quickchartButtonEl.classList.add('colab-df-quickchart-complete');\n",
              "    }\n",
              "    (() => {\n",
              "      let quickchartButtonEl =\n",
              "        document.querySelector('#df-b43fedc0-78ad-4bc7-b0f3-6abb0408fde5 button');\n",
              "      quickchartButtonEl.style.display =\n",
              "        google.colab.kernel.accessAllowed ? 'block' : 'none';\n",
              "    })();\n",
              "  </script>\n",
              "</div>\n",
              "\n",
              "    </div>\n",
              "  </div>\n"
            ],
            "application/vnd.google.colaboratory.intrinsic+json": {
              "type": "dataframe",
              "variable_name": "df",
              "summary": "{\n  \"name\": \"df\",\n  \"rows\": 20000,\n  \"fields\": [\n    {\n      \"column\": \"headlines\",\n      \"properties\": {\n        \"dtype\": \"string\",\n        \"num_unique_values\": 19998,\n        \"samples\": [\n          \"PM Modi wishes Delhi Cong chief Ajay Maken good health\",\n          \"'The Accidental Prime Minister' should go to Oscars: Kirron Kher\",\n          \"90-yr-old cyclist stripped of record post failed drug test\"\n        ],\n        \"semantic_type\": \"\",\n        \"description\": \"\"\n      }\n    },\n    {\n      \"column\": \"text\",\n      \"properties\": {\n        \"dtype\": \"string\",\n        \"num_unique_values\": 20000,\n        \"samples\": [\n          \"Emile Ratelband, a 69-year-old Dutch man, has moved the court to be legally declared a 49-year-old to get more right swipes on dating app Tinder. He said he did not feel \\u00c3\\u00a2\\u00c2\\u0080\\u00c2\\u009ccomfortable\\\" with his official age as it did not reflect his \\\"emotional state.\\\" \\\"When I\\u00c3\\u00a2\\u00c2\\u0080\\u00c2\\u0099m on Tinder and it says I\\u00c3\\u00a2\\u00c2\\u0080\\u00c2\\u0099m 69, I don\\u00c3\\u00a2\\u00c2\\u0080\\u00c2\\u0099t get an answer,\\\" Ratelband added.\",\n          \"'Mary Kom' actor Darshan Kumaar will be featuring in Vivek Oberoi starrer upcoming biopic titled 'PM Narendra Modi'. Confirming the news, producer Sandip Ssingh said, \\\"It's wonderful to be teaming up with [Darshan] for 'PM Narendra Modi'. His character will play a key role in the film's story.\\\" Darshan said he's \\\"honoured to be a part of the biggest biopic\\\".\",\n          \"Talking about the selection process at the European Space Agency, astronaut Tim Peake has said, \\\"You have to be a jack of all trades.\\\" Adding that one doesn't have to be a genius, Peake also said, \\\"But you do have to be high average in everything.\\\" \\\"Team skills are going to be absolutely essential,\\\" he added.\"\n        ],\n        \"semantic_type\": \"\",\n        \"description\": \"\"\n      }\n    }\n  ]\n}"
            }
          },
          "metadata": {},
          "execution_count": 3
        }
      ],
      "source": [
        "df.head()"
      ]
    },
    {
      "cell_type": "code",
      "execution_count": null,
      "metadata": {
        "id": "9nukg0PdQM1j"
      },
      "outputs": [],
      "source": [
        "df.drop_duplicates(subset=['text'],inplace=True)\n",
        "df.dropna(axis=0,inplace=True)"
      ]
    },
    {
      "cell_type": "code",
      "execution_count": null,
      "metadata": {
        "id": "y1GutUjuQQ5g"
      },
      "outputs": [],
      "source": [
        "df.replace('', np.nan, inplace=True)\n",
        "df.dropna(axis=0,inplace=True)"
      ]
    },
    {
      "cell_type": "code",
      "execution_count": null,
      "metadata": {
        "colab": {
          "base_uri": "https://localhost:8080/",
          "height": 206
        },
        "id": "Rq2KUts2eXex",
        "outputId": "defaf123-f837-47b4-8450-b2b3c3f87155"
      },
      "outputs": [
        {
          "output_type": "execute_result",
          "data": {
            "text/plain": [
              "                                           headlines  \\\n",
              "0  sostok upGrad learner switches to career in ML...   \n",
              "1  sostok Delhi techie wins free food from Swiggy...   \n",
              "2  sostok New Zealand end Rohit Sharma-led India'...   \n",
              "3  sostok Aegon life iTerm insurance plan helps c...   \n",
              "4  sostok Have known Hirani for yrs, what if MeTo...   \n",
              "\n",
              "                                                text  \n",
              "0  Saurav Kant, an alumnus of upGrad and IIIT-B's...  \n",
              "1  Kunal Shah's credit card bill payment platform...  \n",
              "2  New Zealand defeated India by 8 wickets in the...  \n",
              "3  With Aegon Life iTerm Insurance plan, customer...  \n",
              "4  Speaking about the sexual harassment allegatio...  "
            ],
            "text/html": [
              "\n",
              "  <div id=\"df-715f9379-fb75-4cfe-99fc-5e196530737e\" class=\"colab-df-container\">\n",
              "    <div>\n",
              "<style scoped>\n",
              "    .dataframe tbody tr th:only-of-type {\n",
              "        vertical-align: middle;\n",
              "    }\n",
              "\n",
              "    .dataframe tbody tr th {\n",
              "        vertical-align: top;\n",
              "    }\n",
              "\n",
              "    .dataframe thead th {\n",
              "        text-align: right;\n",
              "    }\n",
              "</style>\n",
              "<table border=\"1\" class=\"dataframe\">\n",
              "  <thead>\n",
              "    <tr style=\"text-align: right;\">\n",
              "      <th></th>\n",
              "      <th>headlines</th>\n",
              "      <th>text</th>\n",
              "    </tr>\n",
              "  </thead>\n",
              "  <tbody>\n",
              "    <tr>\n",
              "      <th>0</th>\n",
              "      <td>sostok upGrad learner switches to career in ML...</td>\n",
              "      <td>Saurav Kant, an alumnus of upGrad and IIIT-B's...</td>\n",
              "    </tr>\n",
              "    <tr>\n",
              "      <th>1</th>\n",
              "      <td>sostok Delhi techie wins free food from Swiggy...</td>\n",
              "      <td>Kunal Shah's credit card bill payment platform...</td>\n",
              "    </tr>\n",
              "    <tr>\n",
              "      <th>2</th>\n",
              "      <td>sostok New Zealand end Rohit Sharma-led India'...</td>\n",
              "      <td>New Zealand defeated India by 8 wickets in the...</td>\n",
              "    </tr>\n",
              "    <tr>\n",
              "      <th>3</th>\n",
              "      <td>sostok Aegon life iTerm insurance plan helps c...</td>\n",
              "      <td>With Aegon Life iTerm Insurance plan, customer...</td>\n",
              "    </tr>\n",
              "    <tr>\n",
              "      <th>4</th>\n",
              "      <td>sostok Have known Hirani for yrs, what if MeTo...</td>\n",
              "      <td>Speaking about the sexual harassment allegatio...</td>\n",
              "    </tr>\n",
              "  </tbody>\n",
              "</table>\n",
              "</div>\n",
              "    <div class=\"colab-df-buttons\">\n",
              "\n",
              "  <div class=\"colab-df-container\">\n",
              "    <button class=\"colab-df-convert\" onclick=\"convertToInteractive('df-715f9379-fb75-4cfe-99fc-5e196530737e')\"\n",
              "            title=\"Convert this dataframe to an interactive table.\"\n",
              "            style=\"display:none;\">\n",
              "\n",
              "  <svg xmlns=\"http://www.w3.org/2000/svg\" height=\"24px\" viewBox=\"0 -960 960 960\">\n",
              "    <path d=\"M120-120v-720h720v720H120Zm60-500h600v-160H180v160Zm220 220h160v-160H400v160Zm0 220h160v-160H400v160ZM180-400h160v-160H180v160Zm440 0h160v-160H620v160ZM180-180h160v-160H180v160Zm440 0h160v-160H620v160Z\"/>\n",
              "  </svg>\n",
              "    </button>\n",
              "\n",
              "  <style>\n",
              "    .colab-df-container {\n",
              "      display:flex;\n",
              "      gap: 12px;\n",
              "    }\n",
              "\n",
              "    .colab-df-convert {\n",
              "      background-color: #E8F0FE;\n",
              "      border: none;\n",
              "      border-radius: 50%;\n",
              "      cursor: pointer;\n",
              "      display: none;\n",
              "      fill: #1967D2;\n",
              "      height: 32px;\n",
              "      padding: 0 0 0 0;\n",
              "      width: 32px;\n",
              "    }\n",
              "\n",
              "    .colab-df-convert:hover {\n",
              "      background-color: #E2EBFA;\n",
              "      box-shadow: 0px 1px 2px rgba(60, 64, 67, 0.3), 0px 1px 3px 1px rgba(60, 64, 67, 0.15);\n",
              "      fill: #174EA6;\n",
              "    }\n",
              "\n",
              "    .colab-df-buttons div {\n",
              "      margin-bottom: 4px;\n",
              "    }\n",
              "\n",
              "    [theme=dark] .colab-df-convert {\n",
              "      background-color: #3B4455;\n",
              "      fill: #D2E3FC;\n",
              "    }\n",
              "\n",
              "    [theme=dark] .colab-df-convert:hover {\n",
              "      background-color: #434B5C;\n",
              "      box-shadow: 0px 1px 3px 1px rgba(0, 0, 0, 0.15);\n",
              "      filter: drop-shadow(0px 1px 2px rgba(0, 0, 0, 0.3));\n",
              "      fill: #FFFFFF;\n",
              "    }\n",
              "  </style>\n",
              "\n",
              "    <script>\n",
              "      const buttonEl =\n",
              "        document.querySelector('#df-715f9379-fb75-4cfe-99fc-5e196530737e button.colab-df-convert');\n",
              "      buttonEl.style.display =\n",
              "        google.colab.kernel.accessAllowed ? 'block' : 'none';\n",
              "\n",
              "      async function convertToInteractive(key) {\n",
              "        const element = document.querySelector('#df-715f9379-fb75-4cfe-99fc-5e196530737e');\n",
              "        const dataTable =\n",
              "          await google.colab.kernel.invokeFunction('convertToInteractive',\n",
              "                                                    [key], {});\n",
              "        if (!dataTable) return;\n",
              "\n",
              "        const docLinkHtml = 'Like what you see? Visit the ' +\n",
              "          '<a target=\"_blank\" href=https://colab.research.google.com/notebooks/data_table.ipynb>data table notebook</a>'\n",
              "          + ' to learn more about interactive tables.';\n",
              "        element.innerHTML = '';\n",
              "        dataTable['output_type'] = 'display_data';\n",
              "        await google.colab.output.renderOutput(dataTable, element);\n",
              "        const docLink = document.createElement('div');\n",
              "        docLink.innerHTML = docLinkHtml;\n",
              "        element.appendChild(docLink);\n",
              "      }\n",
              "    </script>\n",
              "  </div>\n",
              "\n",
              "\n",
              "<div id=\"df-e291fd16-7ffd-471e-80ac-e97c9edbba4b\">\n",
              "  <button class=\"colab-df-quickchart\" onclick=\"quickchart('df-e291fd16-7ffd-471e-80ac-e97c9edbba4b')\"\n",
              "            title=\"Suggest charts\"\n",
              "            style=\"display:none;\">\n",
              "\n",
              "<svg xmlns=\"http://www.w3.org/2000/svg\" height=\"24px\"viewBox=\"0 0 24 24\"\n",
              "     width=\"24px\">\n",
              "    <g>\n",
              "        <path d=\"M19 3H5c-1.1 0-2 .9-2 2v14c0 1.1.9 2 2 2h14c1.1 0 2-.9 2-2V5c0-1.1-.9-2-2-2zM9 17H7v-7h2v7zm4 0h-2V7h2v10zm4 0h-2v-4h2v4z\"/>\n",
              "    </g>\n",
              "</svg>\n",
              "  </button>\n",
              "\n",
              "<style>\n",
              "  .colab-df-quickchart {\n",
              "      --bg-color: #E8F0FE;\n",
              "      --fill-color: #1967D2;\n",
              "      --hover-bg-color: #E2EBFA;\n",
              "      --hover-fill-color: #174EA6;\n",
              "      --disabled-fill-color: #AAA;\n",
              "      --disabled-bg-color: #DDD;\n",
              "  }\n",
              "\n",
              "  [theme=dark] .colab-df-quickchart {\n",
              "      --bg-color: #3B4455;\n",
              "      --fill-color: #D2E3FC;\n",
              "      --hover-bg-color: #434B5C;\n",
              "      --hover-fill-color: #FFFFFF;\n",
              "      --disabled-bg-color: #3B4455;\n",
              "      --disabled-fill-color: #666;\n",
              "  }\n",
              "\n",
              "  .colab-df-quickchart {\n",
              "    background-color: var(--bg-color);\n",
              "    border: none;\n",
              "    border-radius: 50%;\n",
              "    cursor: pointer;\n",
              "    display: none;\n",
              "    fill: var(--fill-color);\n",
              "    height: 32px;\n",
              "    padding: 0;\n",
              "    width: 32px;\n",
              "  }\n",
              "\n",
              "  .colab-df-quickchart:hover {\n",
              "    background-color: var(--hover-bg-color);\n",
              "    box-shadow: 0 1px 2px rgba(60, 64, 67, 0.3), 0 1px 3px 1px rgba(60, 64, 67, 0.15);\n",
              "    fill: var(--button-hover-fill-color);\n",
              "  }\n",
              "\n",
              "  .colab-df-quickchart-complete:disabled,\n",
              "  .colab-df-quickchart-complete:disabled:hover {\n",
              "    background-color: var(--disabled-bg-color);\n",
              "    fill: var(--disabled-fill-color);\n",
              "    box-shadow: none;\n",
              "  }\n",
              "\n",
              "  .colab-df-spinner {\n",
              "    border: 2px solid var(--fill-color);\n",
              "    border-color: transparent;\n",
              "    border-bottom-color: var(--fill-color);\n",
              "    animation:\n",
              "      spin 1s steps(1) infinite;\n",
              "  }\n",
              "\n",
              "  @keyframes spin {\n",
              "    0% {\n",
              "      border-color: transparent;\n",
              "      border-bottom-color: var(--fill-color);\n",
              "      border-left-color: var(--fill-color);\n",
              "    }\n",
              "    20% {\n",
              "      border-color: transparent;\n",
              "      border-left-color: var(--fill-color);\n",
              "      border-top-color: var(--fill-color);\n",
              "    }\n",
              "    30% {\n",
              "      border-color: transparent;\n",
              "      border-left-color: var(--fill-color);\n",
              "      border-top-color: var(--fill-color);\n",
              "      border-right-color: var(--fill-color);\n",
              "    }\n",
              "    40% {\n",
              "      border-color: transparent;\n",
              "      border-right-color: var(--fill-color);\n",
              "      border-top-color: var(--fill-color);\n",
              "    }\n",
              "    60% {\n",
              "      border-color: transparent;\n",
              "      border-right-color: var(--fill-color);\n",
              "    }\n",
              "    80% {\n",
              "      border-color: transparent;\n",
              "      border-right-color: var(--fill-color);\n",
              "      border-bottom-color: var(--fill-color);\n",
              "    }\n",
              "    90% {\n",
              "      border-color: transparent;\n",
              "      border-bottom-color: var(--fill-color);\n",
              "    }\n",
              "  }\n",
              "</style>\n",
              "\n",
              "  <script>\n",
              "    async function quickchart(key) {\n",
              "      const quickchartButtonEl =\n",
              "        document.querySelector('#' + key + ' button');\n",
              "      quickchartButtonEl.disabled = true;  // To prevent multiple clicks.\n",
              "      quickchartButtonEl.classList.add('colab-df-spinner');\n",
              "      try {\n",
              "        const charts = await google.colab.kernel.invokeFunction(\n",
              "            'suggestCharts', [key], {});\n",
              "      } catch (error) {\n",
              "        console.error('Error during call to suggestCharts:', error);\n",
              "      }\n",
              "      quickchartButtonEl.classList.remove('colab-df-spinner');\n",
              "      quickchartButtonEl.classList.add('colab-df-quickchart-complete');\n",
              "    }\n",
              "    (() => {\n",
              "      let quickchartButtonEl =\n",
              "        document.querySelector('#df-e291fd16-7ffd-471e-80ac-e97c9edbba4b button');\n",
              "      quickchartButtonEl.style.display =\n",
              "        google.colab.kernel.accessAllowed ? 'block' : 'none';\n",
              "    })();\n",
              "  </script>\n",
              "</div>\n",
              "\n",
              "    </div>\n",
              "  </div>\n"
            ],
            "application/vnd.google.colaboratory.intrinsic+json": {
              "type": "dataframe",
              "variable_name": "df",
              "summary": "{\n  \"name\": \"df\",\n  \"rows\": 20000,\n  \"fields\": [\n    {\n      \"column\": \"headlines\",\n      \"properties\": {\n        \"dtype\": \"string\",\n        \"num_unique_values\": 19998,\n        \"samples\": [\n          \"sostok PM Modi wishes Delhi Cong chief Ajay Maken good health eostok\",\n          \"sostok 'The Accidental Prime Minister' should go to Oscars: Kirron Kher eostok\",\n          \"sostok 90-yr-old cyclist stripped of record post failed drug test eostok\"\n        ],\n        \"semantic_type\": \"\",\n        \"description\": \"\"\n      }\n    },\n    {\n      \"column\": \"text\",\n      \"properties\": {\n        \"dtype\": \"string\",\n        \"num_unique_values\": 20000,\n        \"samples\": [\n          \"Emile Ratelband, a 69-year-old Dutch man, has moved the court to be legally declared a 49-year-old to get more right swipes on dating app Tinder. He said he did not feel \\u00c3\\u00a2\\u00c2\\u0080\\u00c2\\u009ccomfortable\\\" with his official age as it did not reflect his \\\"emotional state.\\\" \\\"When I\\u00c3\\u00a2\\u00c2\\u0080\\u00c2\\u0099m on Tinder and it says I\\u00c3\\u00a2\\u00c2\\u0080\\u00c2\\u0099m 69, I don\\u00c3\\u00a2\\u00c2\\u0080\\u00c2\\u0099t get an answer,\\\" Ratelband added.\",\n          \"'Mary Kom' actor Darshan Kumaar will be featuring in Vivek Oberoi starrer upcoming biopic titled 'PM Narendra Modi'. Confirming the news, producer Sandip Ssingh said, \\\"It's wonderful to be teaming up with [Darshan] for 'PM Narendra Modi'. His character will play a key role in the film's story.\\\" Darshan said he's \\\"honoured to be a part of the biggest biopic\\\".\",\n          \"Talking about the selection process at the European Space Agency, astronaut Tim Peake has said, \\\"You have to be a jack of all trades.\\\" Adding that one doesn't have to be a genius, Peake also said, \\\"But you do have to be high average in everything.\\\" \\\"Team skills are going to be absolutely essential,\\\" he added.\"\n        ],\n        \"semantic_type\": \"\",\n        \"description\": \"\"\n      }\n    }\n  ]\n}"
            }
          },
          "metadata": {},
          "execution_count": 6
        }
      ],
      "source": [
        "df['headlines'] = df['headlines'].apply(lambda x : 'sostok '+ x + ' eostok')\n",
        "df.head()"
      ]
    },
    {
      "cell_type": "code",
      "execution_count": null,
      "metadata": {
        "id": "cYG2BhtVjg3_"
      },
      "outputs": [],
      "source": [
        "df['headlines'] = df['headlines'].apply(lambda x:x.lower())\n",
        "df['text'] = df['text'].apply(lambda x:x.lower())"
      ]
    },
    {
      "cell_type": "code",
      "execution_count": null,
      "metadata": {
        "id": "lkkOOL8Su85H"
      },
      "outputs": [],
      "source": [
        "df['headlines'] = df['headlines'].apply(lambda x: re.sub(r'\"', \"\", x))\n",
        "df['text'] = df['text'].apply(lambda x: re.sub(r'\"', \"\", x))"
      ]
    },
    {
      "cell_type": "code",
      "execution_count": null,
      "metadata": {
        "id": "pyY1dJuLvkWF"
      },
      "outputs": [],
      "source": [
        "df['headlines'] = df['headlines'].apply(lambda x: re.sub(r'\\([^)]*\\)', \"\", x))\n",
        "df['text'] = df['text'].apply(lambda x: re.sub(r'\\([^)]*\\)', \"\", x))"
      ]
    },
    {
      "cell_type": "code",
      "execution_count": null,
      "metadata": {
        "id": "em7LQFWiQTnO"
      },
      "outputs": [],
      "source": [
        "contraction_mapping = {\"ain't\": \"is not\", \"aren't\": \"are not\",\"can't\": \"cannot\", \"'cause\": \"because\", \"could've\": \"could have\", \"couldn't\": \"could not\",\n",
        "                           \"didn't\": \"did not\",  \"doesn't\": \"does not\", \"don't\": \"do not\", \"hadn't\": \"had not\", \"hasn't\": \"has not\", \"haven't\": \"have not\",\n",
        "                           \"he'd\": \"he would\",\"he'll\": \"he will\", \"he's\": \"he is\", \"how'd\": \"how did\", \"how'd'y\": \"how do you\", \"how'll\": \"how will\", \"how's\": \"how is\",\n",
        "                           \"I'd\": \"I would\", \"I'd've\": \"I would have\", \"I'll\": \"I will\", \"I'll've\": \"I will have\",\"I'm\": \"I am\", \"I've\": \"I have\", \"i'd\": \"i would\",\n",
        "                           \"i'd've\": \"i would have\", \"i'll\": \"i will\",  \"i'll've\": \"i will have\",\"i'm\": \"i am\", \"i've\": \"i have\", \"isn't\": \"is not\", \"it'd\": \"it would\",\n",
        "                           \"it'd've\": \"it would have\", \"it'll\": \"it will\", \"it'll've\": \"it will have\",\"it's\": \"it is\", \"let's\": \"let us\", \"ma'am\": \"madam\",\n",
        "                           \"mayn't\": \"may not\", \"might've\": \"might have\",\"mightn't\": \"might not\",\"mightn't've\": \"might not have\", \"must've\": \"must have\",\n",
        "                           \"mustn't\": \"must not\", \"mustn't've\": \"must not have\", \"needn't\": \"need not\", \"needn't've\": \"need not have\",\"o'clock\": \"of the clock\",\n",
        "                           \"oughtn't\": \"ought not\", \"oughtn't've\": \"ought not have\", \"shan't\": \"shall not\", \"sha'n't\": \"shall not\", \"shan't've\": \"shall not have\",\n",
        "                           \"she'd\": \"she would\", \"she'd've\": \"she would have\", \"she'll\": \"she will\", \"she'll've\": \"she will have\", \"she's\": \"she is\",\n",
        "                           \"should've\": \"should have\", \"shouldn't\": \"should not\", \"shouldn't've\": \"should not have\", \"so've\": \"so have\",\"so's\": \"so as\",\n",
        "                           \"this's\": \"this is\",\"that'd\": \"that would\", \"that'd've\": \"that would have\", \"that's\": \"that is\", \"there'd\": \"there would\",\n",
        "                           \"there'd've\": \"there would have\", \"there's\": \"there is\", \"here's\": \"here is\",\"they'd\": \"they would\", \"they'd've\": \"they would have\",\n",
        "                           \"they'll\": \"they will\", \"they'll've\": \"they will have\", \"they're\": \"they are\", \"they've\": \"they have\", \"to've\": \"to have\",\n",
        "                           \"wasn't\": \"was not\", \"we'd\": \"we would\", \"we'd've\": \"we would have\", \"we'll\": \"we will\", \"we'll've\": \"we will have\", \"we're\": \"we are\",\n",
        "                           \"we've\": \"we have\", \"weren't\": \"were not\", \"what'll\": \"what will\", \"what'll've\": \"what will have\", \"what're\": \"what are\",\n",
        "                           \"what's\": \"what is\", \"what've\": \"what have\", \"when's\": \"when is\", \"when've\": \"when have\", \"where'd\": \"where did\", \"where's\": \"where is\",\n",
        "                           \"where've\": \"where have\", \"who'll\": \"who will\", \"who'll've\": \"who will have\", \"who's\": \"who is\", \"who've\": \"who have\",\n",
        "                           \"why's\": \"why is\", \"why've\": \"why have\", \"will've\": \"will have\", \"won't\": \"will not\", \"won't've\": \"will not have\",\n",
        "                           \"would've\": \"would have\", \"wouldn't\": \"would not\", \"wouldn't've\": \"would not have\", \"y'all\": \"you all\",\n",
        "                           \"y'all'd\": \"you all would\",\"y'all'd've\": \"you all would have\",\"y'all're\": \"you all are\",\"y'all've\": \"you all have\",\n",
        "                           \"you'd\": \"you would\", \"you'd've\": \"you would have\", \"you'll\": \"you will\", \"you'll've\": \"you will have\",\n",
        "                           \"you're\": \"you are\", \"you've\": \"you have\"}\n",
        "df[\"text\"] = df[\"text\"].apply(lambda x: \" \".join(contraction_mapping[t] if t in contraction_mapping else t for t in x.split()))\n",
        "df[\"headlines\"] = df[\"headlines\"].apply(lambda x: \" \".join(contraction_mapping[t] if t in contraction_mapping else t for t in x.split()))\n"
      ]
    },
    {
      "cell_type": "code",
      "execution_count": null,
      "metadata": {
        "id": "tB2muNW8YRtS"
      },
      "outputs": [],
      "source": [
        "special = { \"%\" : \" percent\", \"$\": \"dollar\", \"@\": \" at\", \"&\": \" and\", \"+\": \" plus\", \"=\": \" equal\",\n",
        "            \"°\": \"degree\", \"²\": \" squared\", \"³\": \" cubed\", \"¼\": \" one fourth\", \"½\": \" one half\", \"¾\": \" three fourths\", \"℃\": \" degrees Celsius\",\n",
        "            \"℉\": \" degrees Fahrenheit\", \"×\": \" times\"}"
      ]
    },
    {
      "cell_type": "code",
      "execution_count": null,
      "metadata": {
        "id": "KeQ20-UON8h4"
      },
      "outputs": [],
      "source": [
        "for i in df['headlines'].head(1):\n",
        "  num=0\n",
        "  for j in special:\n",
        "    if j in i:\n",
        "      list = i.split(j)\n",
        "      i = special[j].join(list)\n",
        "    else:\n",
        "      continue\n",
        "  df['headlines'][num] = i\n",
        "  num = num+1"
      ]
    },
    {
      "cell_type": "code",
      "execution_count": null,
      "metadata": {
        "id": "Dn-NY-ov_Pd1"
      },
      "outputs": [],
      "source": [
        "df['headlines'] = df['headlines'].apply(lambda x:re.sub(\"[^a-zA-Z0-9]\", \" \", x))\n",
        "df['text'] = df['text'].apply(lambda x:re.sub(\"[^a-zA-Z0-9]\", \" \", x))"
      ]
    },
    {
      "cell_type": "code",
      "execution_count": null,
      "metadata": {
        "id": "XBpoKLBX9lLt"
      },
      "outputs": [],
      "source": [
        "df['text'] = df['text'].apply(lambda x: re.sub(r'\\bs\\b', \"\", x))\n",
        "df['headlines'] = df['headlines'].apply(lambda x: re.sub(r'\\bs\\b', \"\", x))"
      ]
    },
    {
      "cell_type": "code",
      "execution_count": null,
      "metadata": {
        "colab": {
          "base_uri": "https://localhost:8080/",
          "height": 206
        },
        "id": "l7ew0lqrgXH3",
        "outputId": "8186542a-e38f-4f2e-df19-758b12a7bd3d"
      },
      "outputs": [
        {
          "output_type": "execute_result",
          "data": {
            "text/plain": [
              "                                           headlines  \\\n",
              "0  sostok upgrad learner switches to career in ml...   \n",
              "1  sostok delhi techie wins free food from swiggy...   \n",
              "2  sostok new zealand end rohit sharma led india ...   \n",
              "3  sostok aegon life iterm insurance plan helps c...   \n",
              "4  sostok have known hirani for yrs  what if meto...   \n",
              "\n",
              "                                                text  \n",
              "0  saurav kant  an alumnus of upgrad and iiit b  ...  \n",
              "1  kunal shah  credit card bill payment platform ...  \n",
              "2  new zealand defeated india by 8 wickets in the...  \n",
              "3  with aegon life iterm insurance plan  customer...  \n",
              "4  speaking about the sexual harassment allegatio...  "
            ],
            "text/html": [
              "\n",
              "  <div id=\"df-76b81708-a5b9-481e-9010-dbb7edbadc5a\" class=\"colab-df-container\">\n",
              "    <div>\n",
              "<style scoped>\n",
              "    .dataframe tbody tr th:only-of-type {\n",
              "        vertical-align: middle;\n",
              "    }\n",
              "\n",
              "    .dataframe tbody tr th {\n",
              "        vertical-align: top;\n",
              "    }\n",
              "\n",
              "    .dataframe thead th {\n",
              "        text-align: right;\n",
              "    }\n",
              "</style>\n",
              "<table border=\"1\" class=\"dataframe\">\n",
              "  <thead>\n",
              "    <tr style=\"text-align: right;\">\n",
              "      <th></th>\n",
              "      <th>headlines</th>\n",
              "      <th>text</th>\n",
              "    </tr>\n",
              "  </thead>\n",
              "  <tbody>\n",
              "    <tr>\n",
              "      <th>0</th>\n",
              "      <td>sostok upgrad learner switches to career in ml...</td>\n",
              "      <td>saurav kant  an alumnus of upgrad and iiit b  ...</td>\n",
              "    </tr>\n",
              "    <tr>\n",
              "      <th>1</th>\n",
              "      <td>sostok delhi techie wins free food from swiggy...</td>\n",
              "      <td>kunal shah  credit card bill payment platform ...</td>\n",
              "    </tr>\n",
              "    <tr>\n",
              "      <th>2</th>\n",
              "      <td>sostok new zealand end rohit sharma led india ...</td>\n",
              "      <td>new zealand defeated india by 8 wickets in the...</td>\n",
              "    </tr>\n",
              "    <tr>\n",
              "      <th>3</th>\n",
              "      <td>sostok aegon life iterm insurance plan helps c...</td>\n",
              "      <td>with aegon life iterm insurance plan  customer...</td>\n",
              "    </tr>\n",
              "    <tr>\n",
              "      <th>4</th>\n",
              "      <td>sostok have known hirani for yrs  what if meto...</td>\n",
              "      <td>speaking about the sexual harassment allegatio...</td>\n",
              "    </tr>\n",
              "  </tbody>\n",
              "</table>\n",
              "</div>\n",
              "    <div class=\"colab-df-buttons\">\n",
              "\n",
              "  <div class=\"colab-df-container\">\n",
              "    <button class=\"colab-df-convert\" onclick=\"convertToInteractive('df-76b81708-a5b9-481e-9010-dbb7edbadc5a')\"\n",
              "            title=\"Convert this dataframe to an interactive table.\"\n",
              "            style=\"display:none;\">\n",
              "\n",
              "  <svg xmlns=\"http://www.w3.org/2000/svg\" height=\"24px\" viewBox=\"0 -960 960 960\">\n",
              "    <path d=\"M120-120v-720h720v720H120Zm60-500h600v-160H180v160Zm220 220h160v-160H400v160Zm0 220h160v-160H400v160ZM180-400h160v-160H180v160Zm440 0h160v-160H620v160ZM180-180h160v-160H180v160Zm440 0h160v-160H620v160Z\"/>\n",
              "  </svg>\n",
              "    </button>\n",
              "\n",
              "  <style>\n",
              "    .colab-df-container {\n",
              "      display:flex;\n",
              "      gap: 12px;\n",
              "    }\n",
              "\n",
              "    .colab-df-convert {\n",
              "      background-color: #E8F0FE;\n",
              "      border: none;\n",
              "      border-radius: 50%;\n",
              "      cursor: pointer;\n",
              "      display: none;\n",
              "      fill: #1967D2;\n",
              "      height: 32px;\n",
              "      padding: 0 0 0 0;\n",
              "      width: 32px;\n",
              "    }\n",
              "\n",
              "    .colab-df-convert:hover {\n",
              "      background-color: #E2EBFA;\n",
              "      box-shadow: 0px 1px 2px rgba(60, 64, 67, 0.3), 0px 1px 3px 1px rgba(60, 64, 67, 0.15);\n",
              "      fill: #174EA6;\n",
              "    }\n",
              "\n",
              "    .colab-df-buttons div {\n",
              "      margin-bottom: 4px;\n",
              "    }\n",
              "\n",
              "    [theme=dark] .colab-df-convert {\n",
              "      background-color: #3B4455;\n",
              "      fill: #D2E3FC;\n",
              "    }\n",
              "\n",
              "    [theme=dark] .colab-df-convert:hover {\n",
              "      background-color: #434B5C;\n",
              "      box-shadow: 0px 1px 3px 1px rgba(0, 0, 0, 0.15);\n",
              "      filter: drop-shadow(0px 1px 2px rgba(0, 0, 0, 0.3));\n",
              "      fill: #FFFFFF;\n",
              "    }\n",
              "  </style>\n",
              "\n",
              "    <script>\n",
              "      const buttonEl =\n",
              "        document.querySelector('#df-76b81708-a5b9-481e-9010-dbb7edbadc5a button.colab-df-convert');\n",
              "      buttonEl.style.display =\n",
              "        google.colab.kernel.accessAllowed ? 'block' : 'none';\n",
              "\n",
              "      async function convertToInteractive(key) {\n",
              "        const element = document.querySelector('#df-76b81708-a5b9-481e-9010-dbb7edbadc5a');\n",
              "        const dataTable =\n",
              "          await google.colab.kernel.invokeFunction('convertToInteractive',\n",
              "                                                    [key], {});\n",
              "        if (!dataTable) return;\n",
              "\n",
              "        const docLinkHtml = 'Like what you see? Visit the ' +\n",
              "          '<a target=\"_blank\" href=https://colab.research.google.com/notebooks/data_table.ipynb>data table notebook</a>'\n",
              "          + ' to learn more about interactive tables.';\n",
              "        element.innerHTML = '';\n",
              "        dataTable['output_type'] = 'display_data';\n",
              "        await google.colab.output.renderOutput(dataTable, element);\n",
              "        const docLink = document.createElement('div');\n",
              "        docLink.innerHTML = docLinkHtml;\n",
              "        element.appendChild(docLink);\n",
              "      }\n",
              "    </script>\n",
              "  </div>\n",
              "\n",
              "\n",
              "<div id=\"df-1bef2ff8-4dff-4da7-be0c-f3c2fd1d9325\">\n",
              "  <button class=\"colab-df-quickchart\" onclick=\"quickchart('df-1bef2ff8-4dff-4da7-be0c-f3c2fd1d9325')\"\n",
              "            title=\"Suggest charts\"\n",
              "            style=\"display:none;\">\n",
              "\n",
              "<svg xmlns=\"http://www.w3.org/2000/svg\" height=\"24px\"viewBox=\"0 0 24 24\"\n",
              "     width=\"24px\">\n",
              "    <g>\n",
              "        <path d=\"M19 3H5c-1.1 0-2 .9-2 2v14c0 1.1.9 2 2 2h14c1.1 0 2-.9 2-2V5c0-1.1-.9-2-2-2zM9 17H7v-7h2v7zm4 0h-2V7h2v10zm4 0h-2v-4h2v4z\"/>\n",
              "    </g>\n",
              "</svg>\n",
              "  </button>\n",
              "\n",
              "<style>\n",
              "  .colab-df-quickchart {\n",
              "      --bg-color: #E8F0FE;\n",
              "      --fill-color: #1967D2;\n",
              "      --hover-bg-color: #E2EBFA;\n",
              "      --hover-fill-color: #174EA6;\n",
              "      --disabled-fill-color: #AAA;\n",
              "      --disabled-bg-color: #DDD;\n",
              "  }\n",
              "\n",
              "  [theme=dark] .colab-df-quickchart {\n",
              "      --bg-color: #3B4455;\n",
              "      --fill-color: #D2E3FC;\n",
              "      --hover-bg-color: #434B5C;\n",
              "      --hover-fill-color: #FFFFFF;\n",
              "      --disabled-bg-color: #3B4455;\n",
              "      --disabled-fill-color: #666;\n",
              "  }\n",
              "\n",
              "  .colab-df-quickchart {\n",
              "    background-color: var(--bg-color);\n",
              "    border: none;\n",
              "    border-radius: 50%;\n",
              "    cursor: pointer;\n",
              "    display: none;\n",
              "    fill: var(--fill-color);\n",
              "    height: 32px;\n",
              "    padding: 0;\n",
              "    width: 32px;\n",
              "  }\n",
              "\n",
              "  .colab-df-quickchart:hover {\n",
              "    background-color: var(--hover-bg-color);\n",
              "    box-shadow: 0 1px 2px rgba(60, 64, 67, 0.3), 0 1px 3px 1px rgba(60, 64, 67, 0.15);\n",
              "    fill: var(--button-hover-fill-color);\n",
              "  }\n",
              "\n",
              "  .colab-df-quickchart-complete:disabled,\n",
              "  .colab-df-quickchart-complete:disabled:hover {\n",
              "    background-color: var(--disabled-bg-color);\n",
              "    fill: var(--disabled-fill-color);\n",
              "    box-shadow: none;\n",
              "  }\n",
              "\n",
              "  .colab-df-spinner {\n",
              "    border: 2px solid var(--fill-color);\n",
              "    border-color: transparent;\n",
              "    border-bottom-color: var(--fill-color);\n",
              "    animation:\n",
              "      spin 1s steps(1) infinite;\n",
              "  }\n",
              "\n",
              "  @keyframes spin {\n",
              "    0% {\n",
              "      border-color: transparent;\n",
              "      border-bottom-color: var(--fill-color);\n",
              "      border-left-color: var(--fill-color);\n",
              "    }\n",
              "    20% {\n",
              "      border-color: transparent;\n",
              "      border-left-color: var(--fill-color);\n",
              "      border-top-color: var(--fill-color);\n",
              "    }\n",
              "    30% {\n",
              "      border-color: transparent;\n",
              "      border-left-color: var(--fill-color);\n",
              "      border-top-color: var(--fill-color);\n",
              "      border-right-color: var(--fill-color);\n",
              "    }\n",
              "    40% {\n",
              "      border-color: transparent;\n",
              "      border-right-color: var(--fill-color);\n",
              "      border-top-color: var(--fill-color);\n",
              "    }\n",
              "    60% {\n",
              "      border-color: transparent;\n",
              "      border-right-color: var(--fill-color);\n",
              "    }\n",
              "    80% {\n",
              "      border-color: transparent;\n",
              "      border-right-color: var(--fill-color);\n",
              "      border-bottom-color: var(--fill-color);\n",
              "    }\n",
              "    90% {\n",
              "      border-color: transparent;\n",
              "      border-bottom-color: var(--fill-color);\n",
              "    }\n",
              "  }\n",
              "</style>\n",
              "\n",
              "  <script>\n",
              "    async function quickchart(key) {\n",
              "      const quickchartButtonEl =\n",
              "        document.querySelector('#' + key + ' button');\n",
              "      quickchartButtonEl.disabled = true;  // To prevent multiple clicks.\n",
              "      quickchartButtonEl.classList.add('colab-df-spinner');\n",
              "      try {\n",
              "        const charts = await google.colab.kernel.invokeFunction(\n",
              "            'suggestCharts', [key], {});\n",
              "      } catch (error) {\n",
              "        console.error('Error during call to suggestCharts:', error);\n",
              "      }\n",
              "      quickchartButtonEl.classList.remove('colab-df-spinner');\n",
              "      quickchartButtonEl.classList.add('colab-df-quickchart-complete');\n",
              "    }\n",
              "    (() => {\n",
              "      let quickchartButtonEl =\n",
              "        document.querySelector('#df-1bef2ff8-4dff-4da7-be0c-f3c2fd1d9325 button');\n",
              "      quickchartButtonEl.style.display =\n",
              "        google.colab.kernel.accessAllowed ? 'block' : 'none';\n",
              "    })();\n",
              "  </script>\n",
              "</div>\n",
              "\n",
              "    </div>\n",
              "  </div>\n"
            ],
            "application/vnd.google.colaboratory.intrinsic+json": {
              "type": "dataframe",
              "variable_name": "df",
              "summary": "{\n  \"name\": \"df\",\n  \"rows\": 20000,\n  \"fields\": [\n    {\n      \"column\": \"headlines\",\n      \"properties\": {\n        \"dtype\": \"string\",\n        \"num_unique_values\": 19997,\n        \"samples\": [\n          \"sostok mandir tha  hai  aur rahega  yogi on ram mandir in ayodhya eostok\",\n          \"sostok pm modi releases       100 commemorative coin in honour of ex pm vajpayee eostok\",\n          \"sostok bengaluru bulls beat gujarat fortune giants to lift pk trophy eostok\"\n        ],\n        \"semantic_type\": \"\",\n        \"description\": \"\"\n      }\n    },\n    {\n      \"column\": \"text\",\n      \"properties\": {\n        \"dtype\": \"string\",\n        \"num_unique_values\": 20000,\n        \"samples\": [\n          \"emile ratelband  a 69 year old dutch man  has moved the court to be legally declared a 49 year old to get more right swipes on dating app tinder  he said he did not feel       comfortable with his official age as it did not reflect his emotional state  when i      m on tinder and it says i      m 69  i don      t get an answer  ratelband added \",\n          \" mary kom  actor darshan kumaar will be featuring in vivek oberoi starrer upcoming biopic titled  pm narendra modi   confirming the news  producer sandip ssingh said  it is wonderful to be teaming up with  darshan  for  pm narendra modi   his character will play a key role in the film  story  darshan said he is honoured to be a part of the biggest biopic \",\n          \"talking about the selection process at the european space agency  astronaut tim peake has said  you have to be a jack of all trades  adding that one does not have to be a genius  peake also said  but you do have to be high average in everything  team skills are going to be absolutely essential  he added \"\n        ],\n        \"semantic_type\": \"\",\n        \"description\": \"\"\n      }\n    }\n  ]\n}"
            }
          },
          "metadata": {},
          "execution_count": 15
        }
      ],
      "source": [
        "df.head()"
      ]
    },
    {
      "cell_type": "code",
      "execution_count": null,
      "metadata": {
        "id": "fBP0byrs-orZ"
      },
      "outputs": [],
      "source": [
        "df['text'] = df['text'].apply(lambda x: re.sub(r'\\s\\s*', \" \", x))\n",
        "df['text'] = df['text'].apply(lambda x: re.sub(r'\\s\\s*', \" \", x))"
      ]
    },
    {
      "cell_type": "code",
      "execution_count": null,
      "metadata": {
        "id": "cpLr3a5iiOPb"
      },
      "outputs": [],
      "source": [
        "df.replace('', np.nan, inplace=True)\n",
        "df.dropna(axis=0,inplace=True)"
      ]
    },
    {
      "cell_type": "code",
      "execution_count": null,
      "metadata": {
        "colab": {
          "base_uri": "https://localhost:8080/"
        },
        "id": "8dlkZJHpQXYx",
        "outputId": "fad94750-1775-4fb7-fab6-bf475472d083"
      },
      "outputs": [
        {
          "output_type": "stream",
          "name": "stdout",
          "text": [
            "0 percentile value is 1\n",
            "10 percentile value is 56\n",
            "20 percentile value is 58\n",
            "30 percentile value is 59\n",
            "40 percentile value is 60\n",
            "50 percentile value is 60\n",
            "60 percentile value is 61\n",
            "70 percentile value is 61\n",
            "80 percentile value is 62\n",
            "90 percentile value is 63\n",
            "100 percentile value is 74\n"
          ]
        }
      ],
      "source": [
        "df[\"word_count_text\"] = df[\"text\"].apply(lambda x: len(str(x).split()))\n",
        "for i in range(0, 100, 10):\n",
        "  var = df[\"word_count_text\"].values\n",
        "  var = np.sort(var, axis = None)\n",
        "  print(\"{} percentile value is {}\".format(i, var[int(len(var)*(float(i)/100))]))\n",
        "print(\"100 percentile value is {}\".format(var[-1]))"
      ]
    },
    {
      "cell_type": "code",
      "execution_count": null,
      "metadata": {
        "colab": {
          "base_uri": "https://localhost:8080/"
        },
        "id": "_UTn8jRgQaXF",
        "outputId": "b3736e2d-9425-47c8-9808-d86edd42ff96"
      },
      "outputs": [
        {
          "output_type": "stream",
          "name": "stdout",
          "text": [
            "90 percentile value is 63\n",
            "91 percentile value is 63\n",
            "92 percentile value is 64\n",
            "93 percentile value is 64\n",
            "94 percentile value is 64\n",
            "95 percentile value is 64\n",
            "96 percentile value is 65\n",
            "97 percentile value is 65\n",
            "98 percentile value is 66\n",
            "99 percentile value is 66\n",
            "100 percentile value is 74\n"
          ]
        }
      ],
      "source": [
        "#looking further from 90th percentile\n",
        "for i in range(90, 100):\n",
        "  var = df[\"word_count_text\"].values\n",
        "  var = np.sort(var, axis = None)\n",
        "  print(\"{} percentile value is {}\".format(i, var[int(len(var)*(float(i)/100))]))\n",
        "print(\"100 percentile value is {}\".format(var[-1]))"
      ]
    },
    {
      "cell_type": "code",
      "execution_count": null,
      "metadata": {
        "colab": {
          "base_uri": "https://localhost:8080/"
        },
        "id": "anpsP7ZyQds8",
        "outputId": "06dfd53b-8805-47ef-8caf-62103e5e33c3"
      },
      "outputs": [
        {
          "output_type": "stream",
          "name": "stdout",
          "text": [
            "0 percentile value is 3\n",
            "10 percentile value is 10\n",
            "20 percentile value is 11\n",
            "30 percentile value is 12\n",
            "40 percentile value is 12\n",
            "50 percentile value is 12\n",
            "60 percentile value is 13\n",
            "70 percentile value is 13\n",
            "80 percentile value is 14\n",
            "90 percentile value is 14\n",
            "100 percentile value is 20\n"
          ]
        }
      ],
      "source": [
        "df[\"word_count_head\"] = df[\"headlines\"].apply(lambda x: len(str(x).split()))\n",
        "for i in range(0, 100, 10):\n",
        "  var = df[\"word_count_head\"].values\n",
        "  var = np.sort(var, axis = None)\n",
        "  print(\"{} percentile value is {}\".format(i, var[int(len(var)*(float(i)/100))]))\n",
        "print(\"100 percentile value is {}\".format(var[-1]))"
      ]
    },
    {
      "cell_type": "code",
      "execution_count": null,
      "metadata": {
        "colab": {
          "base_uri": "https://localhost:8080/"
        },
        "id": "kh9H9k08QiEK",
        "outputId": "af3f3c6d-1091-4b24-b870-7d2d3ca5f820"
      },
      "outputs": [
        {
          "output_type": "stream",
          "name": "stdout",
          "text": [
            "90 percentile value is 14\n",
            "91 percentile value is 15\n",
            "92 percentile value is 15\n",
            "93 percentile value is 15\n",
            "94 percentile value is 15\n",
            "95 percentile value is 15\n",
            "96 percentile value is 15\n",
            "97 percentile value is 16\n",
            "98 percentile value is 16\n",
            "99 percentile value is 16\n",
            "100 percentile value is 20\n"
          ]
        }
      ],
      "source": [
        "#looking further from 90th percentile\n",
        "for i in range(90, 100):\n",
        "  var = df[\"word_count_head\"].values\n",
        "  var = np.sort(var, axis = None)\n",
        "  print(\"{} percentile value is {}\".format(i, var[int(len(var)*(float(i)/100))]))\n",
        "print(\"100 percentile value is {}\".format(var[-1]))"
      ]
    },
    {
      "cell_type": "code",
      "execution_count": null,
      "metadata": {
        "id": "gXZFO5LSQoGL"
      },
      "outputs": [],
      "source": [
        "max_len_head=16\n",
        "max_len_text=66"
      ]
    },
    {
      "cell_type": "code",
      "execution_count": null,
      "metadata": {
        "id": "h-lBUifTQrU1"
      },
      "outputs": [],
      "source": [
        "x_tr, x_val, y_tr, y_val = train_test_split(df['text'], df['headlines'], test_size=0.3, random_state=42, shuffle=True)"
      ]
    },
    {
      "cell_type": "code",
      "execution_count": null,
      "metadata": {
        "colab": {
          "base_uri": "https://localhost:8080/"
        },
        "id": "WwqM0w30Q-VB",
        "outputId": "2085cf5f-02d7-4d3e-c511-2f27f2253b74"
      },
      "outputs": [
        {
          "output_type": "stream",
          "name": "stdout",
          "text": [
            "Drive already mounted at /content/drive; to attempt to forcibly remount, call drive.mount(\"/content/drive\", force_remount=True).\n"
          ]
        }
      ],
      "source": [
        "from google.colab import drive\n",
        "drive.mount('/content/drive')"
      ]
    },
    {
      "cell_type": "code",
      "execution_count": null,
      "metadata": {
        "id": "2iYvLWcPRXp4"
      },
      "outputs": [],
      "source": [
        "embeddings_index = dict()\n",
        "with open(\"/content/drive/MyDrive/glove.42B.300d.txt\") as file:\n",
        "  for line in file:\n",
        "    values = line.split()\n",
        "    word = values[0]\n",
        "    coefs = np.asarray(values[1:], dtype='float32')\n",
        "    embeddings_index[word] = coefs"
      ]
    },
    {
      "cell_type": "code",
      "execution_count": null,
      "metadata": {
        "colab": {
          "base_uri": "https://localhost:8080/"
        },
        "id": "HJ93VWqIWkIv",
        "outputId": "3ff4dd68-7fb7-41d1-cb8d-b889b0c588c4"
      },
      "outputs": [
        {
          "output_type": "stream",
          "name": "stdout",
          "text": [
            "loaded 1917494 words in dictionary\n"
          ]
        }
      ],
      "source": [
        "print(\"loaded {} words in dictionary\".format(len(embeddings_index)))"
      ]
    },
    {
      "cell_type": "code",
      "execution_count": null,
      "metadata": {
        "id": "W1E93nGRYXAg"
      },
      "outputs": [],
      "source": [
        "x_tokenizer = Tokenizer()\n",
        "x_tokenizer.fit_on_texts(x_tr)\n",
        "x_sequences = x_tokenizer.texts_to_sequences(x_tr)\n",
        "x_sequences_val = x_tokenizer.texts_to_sequences(x_val)"
      ]
    },
    {
      "cell_type": "code",
      "execution_count": null,
      "metadata": {
        "colab": {
          "base_uri": "https://localhost:8080/"
        },
        "id": "XheV0YafY44r",
        "outputId": "c8f454c4-4a33-4d1b-c618-603c5d06ef82"
      },
      "outputs": [
        {
          "output_type": "stream",
          "name": "stdout",
          "text": [
            "total no of unique words found: 33608\n"
          ]
        }
      ],
      "source": [
        "word_index = x_tokenizer.word_index\n",
        "print(\"total no of unique words found:\",len(word_index))"
      ]
    },
    {
      "cell_type": "code",
      "execution_count": null,
      "metadata": {
        "colab": {
          "base_uri": "https://localhost:8080/"
        },
        "id": "yR2ZoNzzfnY5",
        "outputId": "7e989c6a-7237-4eba-84d7-d204e003011f"
      },
      "outputs": [
        {
          "output_type": "execute_result",
          "data": {
            "text/plain": [
              "31298"
            ]
          },
          "metadata": {},
          "execution_count": 67
        }
      ],
      "source": [
        "inter_words = set(embeddings_index.keys()).intersection(word_index.keys())\n",
        "len(inter_words)"
      ]
    },
    {
      "cell_type": "code",
      "execution_count": null,
      "metadata": {
        "id": "obP1TIjxgqYW"
      },
      "outputs": [],
      "source": [
        "padded_seq_tr = pad_sequences(x_sequences, maxlen = max_len_text, padding = \"post\")\n",
        "padded_seq_val = pad_sequences(x_sequences_val, maxlen = max_len_text, padding = \"post\")"
      ]
    },
    {
      "cell_type": "code",
      "execution_count": null,
      "metadata": {
        "id": "ZxVwlxstiV05",
        "colab": {
          "base_uri": "https://localhost:8080/",
          "height": 176
        },
        "outputId": "6b06a6b2-a7ab-4692-e186-e872be81c449"
      },
      "outputs": [
        {
          "output_type": "error",
          "ename": "ValueError",
          "evalue": "could not broadcast input array from shape (300,) into shape (100,)",
          "traceback": [
            "\u001b[0;31m---------------------------------------------------------------------------\u001b[0m",
            "\u001b[0;31mValueError\u001b[0m                                Traceback (most recent call last)",
            "\u001b[0;32m<ipython-input-69-85cfb8479792>\u001b[0m in \u001b[0;36m<cell line: 2>\u001b[0;34m()\u001b[0m\n\u001b[1;32m      3\u001b[0m   \u001b[0membedding_vector\u001b[0m \u001b[0;34m=\u001b[0m \u001b[0membeddings_index\u001b[0m\u001b[0;34m.\u001b[0m\u001b[0mget\u001b[0m\u001b[0;34m(\u001b[0m\u001b[0mword\u001b[0m\u001b[0;34m)\u001b[0m\u001b[0;34m\u001b[0m\u001b[0;34m\u001b[0m\u001b[0m\n\u001b[1;32m      4\u001b[0m   \u001b[0;32mif\u001b[0m \u001b[0membedding_vector\u001b[0m \u001b[0;32mis\u001b[0m \u001b[0;32mnot\u001b[0m \u001b[0;32mNone\u001b[0m\u001b[0;34m:\u001b[0m\u001b[0;34m\u001b[0m\u001b[0;34m\u001b[0m\u001b[0m\n\u001b[0;32m----> 5\u001b[0;31m     \u001b[0membedding_matrix\u001b[0m\u001b[0;34m[\u001b[0m\u001b[0mi\u001b[0m\u001b[0;34m]\u001b[0m \u001b[0;34m=\u001b[0m \u001b[0membedding_vector\u001b[0m\u001b[0;34m\u001b[0m\u001b[0;34m\u001b[0m\u001b[0m\n\u001b[0m",
            "\u001b[0;31mValueError\u001b[0m: could not broadcast input array from shape (300,) into shape (100,)"
          ]
        }
      ],
      "source": [
        "embedding_matrix = np.zeros((len(word_index)+1, 100))\n",
        "for word, i in word_index.items():\n",
        "  embedding_vector = embeddings_index.get(word)\n",
        "  if embedding_vector is not None:\n",
        "    embedding_matrix[i] = embedding_vector"
      ]
    },
    {
      "cell_type": "code",
      "execution_count": null,
      "metadata": {
        "id": "7X26reqTmF0D"
      },
      "outputs": [],
      "source": [
        "y_tokenizer = Tokenizer()\n",
        "y_tokenizer.fit_on_texts(y_tr)\n",
        "y_sequences = y_tokenizer.texts_to_sequences(y_tr)\n",
        "y_sequences_val = y_tokenizer.texts_to_sequences(y_val)"
      ]
    },
    {
      "cell_type": "code",
      "execution_count": null,
      "metadata": {
        "colab": {
          "base_uri": "https://localhost:8080/"
        },
        "id": "uZVOcLC-4JXJ",
        "outputId": "25b8cb0b-f556-4d45-a584-04ff308778b3"
      },
      "outputs": [
        {
          "output_type": "stream",
          "name": "stdout",
          "text": [
            "total no of unique words found: 15642\n"
          ]
        }
      ],
      "source": [
        "y_word_index = y_tokenizer.word_index\n",
        "print(\"total no of unique words found:\",len(y_word_index))"
      ]
    },
    {
      "cell_type": "code",
      "execution_count": null,
      "metadata": {
        "colab": {
          "base_uri": "https://localhost:8080/"
        },
        "id": "kY2jMgps4RPl",
        "outputId": "7b1c8037-c3e8-47ae-fa52-b2d77a077de3"
      },
      "outputs": [
        {
          "output_type": "execute_result",
          "data": {
            "text/plain": [
              "15117"
            ]
          },
          "metadata": {},
          "execution_count": 71
        }
      ],
      "source": [
        "y_inter_words = set(embeddings_index.keys()).intersection(y_word_index.keys())\n",
        "len(y_inter_words)"
      ]
    },
    {
      "cell_type": "code",
      "execution_count": null,
      "metadata": {
        "id": "tLQ2bnsPoC8N"
      },
      "outputs": [],
      "source": [
        "y_seq_tr = pad_sequences(y_sequences, maxlen = max_len_head, padding = \"post\")\n",
        "y_seq_val = pad_sequences(y_sequences_val, maxlen = max_len_head, padding = \"post\")"
      ]
    },
    {
      "cell_type": "code",
      "execution_count": null,
      "metadata": {
        "id": "5VDhqc7VQMCi"
      },
      "outputs": [],
      "source": [
        "ind=[]\n",
        "for i in range(len(y_seq_tr)):\n",
        "    cnt=0\n",
        "    for j in y_seq_tr[i]:\n",
        "        if j!=0:\n",
        "            cnt=cnt+1\n",
        "    if(cnt==2):\n",
        "        ind.append(i)\n",
        "\n",
        "y_seq_tr=np.delete(y_seq_tr,ind, axis=0)\n",
        "padded_seq_tr=np.delete(padded_seq_tr,ind, axis=0)"
      ]
    },
    {
      "cell_type": "code",
      "execution_count": null,
      "metadata": {
        "id": "QVvpur0kThcy"
      },
      "outputs": [],
      "source": [
        "ind=[]\n",
        "for i in range(len(y_seq_val)):\n",
        "    cnt=0\n",
        "    for j in y_seq_val[i]:\n",
        "        if j!=0:\n",
        "            cnt=cnt+1\n",
        "    if(cnt==2):\n",
        "        ind.append(i)\n",
        "\n",
        "y_seq_val=np.delete(y_seq_val,ind, axis=0)\n",
        "padded_seq_val=np.delete(padded_seq_val,ind, axis=0)"
      ]
    },
    {
      "cell_type": "code",
      "execution_count": null,
      "metadata": {
        "id": "Z9Lk_-dN4a5v",
        "colab": {
          "base_uri": "https://localhost:8080/",
          "height": 176
        },
        "outputId": "35467840-1eb4-4380-aeb7-9e590c44d46f"
      },
      "outputs": [
        {
          "output_type": "error",
          "ename": "ValueError",
          "evalue": "could not broadcast input array from shape (300,) into shape (100,)",
          "traceback": [
            "\u001b[0;31m---------------------------------------------------------------------------\u001b[0m",
            "\u001b[0;31mValueError\u001b[0m                                Traceback (most recent call last)",
            "\u001b[0;32m<ipython-input-75-9e9374acec41>\u001b[0m in \u001b[0;36m<cell line: 2>\u001b[0;34m()\u001b[0m\n\u001b[1;32m      3\u001b[0m   \u001b[0my_embedding_vector\u001b[0m \u001b[0;34m=\u001b[0m \u001b[0membeddings_index\u001b[0m\u001b[0;34m.\u001b[0m\u001b[0mget\u001b[0m\u001b[0;34m(\u001b[0m\u001b[0mword\u001b[0m\u001b[0;34m)\u001b[0m\u001b[0;34m\u001b[0m\u001b[0;34m\u001b[0m\u001b[0m\n\u001b[1;32m      4\u001b[0m   \u001b[0;32mif\u001b[0m \u001b[0my_embedding_vector\u001b[0m \u001b[0;32mis\u001b[0m \u001b[0;32mnot\u001b[0m \u001b[0;32mNone\u001b[0m\u001b[0;34m:\u001b[0m\u001b[0;34m\u001b[0m\u001b[0;34m\u001b[0m\u001b[0m\n\u001b[0;32m----> 5\u001b[0;31m     \u001b[0my_embedding_matrix\u001b[0m\u001b[0;34m[\u001b[0m\u001b[0mi\u001b[0m\u001b[0;34m]\u001b[0m \u001b[0;34m=\u001b[0m \u001b[0my_embedding_vector\u001b[0m\u001b[0;34m\u001b[0m\u001b[0;34m\u001b[0m\u001b[0m\n\u001b[0m",
            "\u001b[0;31mValueError\u001b[0m: could not broadcast input array from shape (300,) into shape (100,)"
          ]
        }
      ],
      "source": [
        "y_embedding_matrix = np.zeros((len(y_word_index)+1, 100))\n",
        "for word, i in y_word_index.items():\n",
        "  y_embedding_vector = embeddings_index.get(word)\n",
        "  if y_embedding_vector is not None:\n",
        "    y_embedding_matrix[i] = y_embedding_vector"
      ]
    },
    {
      "cell_type": "code",
      "execution_count": null,
      "metadata": {
        "colab": {
          "base_uri": "https://localhost:8080/"
        },
        "id": "0edOh0WVohsf",
        "outputId": "f4e338d6-5637-4ad1-a242-94a378a6a3e2"
      },
      "outputs": [
        {
          "output_type": "stream",
          "name": "stderr",
          "text": [
            "WARNING:tensorflow:Layer lstm_4 will not use cuDNN kernels since it doesn't meet the criteria. It will use a generic GPU kernel as fallback when running on GPU.\n",
            "WARNING:tensorflow:Layer lstm_5 will not use cuDNN kernels since it doesn't meet the criteria. It will use a generic GPU kernel as fallback when running on GPU.\n",
            "WARNING:tensorflow:Layer lstm_6 will not use cuDNN kernels since it doesn't meet the criteria. It will use a generic GPU kernel as fallback when running on GPU.\n",
            "WARNING:tensorflow:Layer lstm_7 will not use cuDNN kernels since it doesn't meet the criteria. It will use a generic GPU kernel as fallback when running on GPU.\n"
          ]
        },
        {
          "output_type": "stream",
          "name": "stdout",
          "text": [
            "Model: \"model_7\"\n",
            "__________________________________________________________________________________________________\n",
            " Layer (type)                Output Shape                 Param #   Connected to                  \n",
            "==================================================================================================\n",
            " input_12 (InputLayer)       [(None, 66)]                 0         []                            \n",
            "                                                                                                  \n",
            " embedding_2 (Embedding)     (None, 66, 100)              3360900   ['input_12[0][0]']            \n",
            "                                                                                                  \n",
            " lstm_4 (LSTM)               [(None, 66, 100),            80400     ['embedding_2[0][0]']         \n",
            "                              (None, 100),                                                        \n",
            "                              (None, 100)]                                                        \n",
            "                                                                                                  \n",
            " input_13 (InputLayer)       [(None, None)]               0         []                            \n",
            "                                                                                                  \n",
            " lstm_5 (LSTM)               [(None, 66, 100),            80400     ['lstm_4[0][0]']              \n",
            "                              (None, 100),                                                        \n",
            "                              (None, 100)]                                                        \n",
            "                                                                                                  \n",
            " embedding_3 (Embedding)     (None, None, 100)            1564300   ['input_13[0][0]']            \n",
            "                                                                                                  \n",
            " lstm_6 (LSTM)               [(None, 66, 100),            80400     ['lstm_5[0][0]']              \n",
            "                              (None, 100),                                                        \n",
            "                              (None, 100)]                                                        \n",
            "                                                                                                  \n",
            " lstm_7 (LSTM)               [(None, None, 100),          80400     ['embedding_3[0][0]',         \n",
            "                              (None, 100),                           'lstm_6[0][1]',              \n",
            "                              (None, 100)]                           'lstm_6[0][2]']              \n",
            "                                                                                                  \n",
            " attention_layer (Attention  ((None, None, 100),          20100     ['lstm_6[0][0]',              \n",
            " Layer)                       (None, None, 66))                      'lstm_7[0][0]']              \n",
            "                                                                                                  \n",
            " concat_layer (Concatenate)  (None, None, 200)            0         ['lstm_7[0][0]',              \n",
            "                                                                     'attention_layer[0][0]']     \n",
            "                                                                                                  \n",
            " time_distributed_1 (TimeDi  (None, None, 15643)          3144243   ['concat_layer[0][0]']        \n",
            " stributed)                                                                                       \n",
            "                                                                                                  \n",
            "==================================================================================================\n",
            "Total params: 8411143 (32.09 MB)\n",
            "Trainable params: 8411143 (32.09 MB)\n",
            "Non-trainable params: 0 (0.00 Byte)\n",
            "__________________________________________________________________________________________________\n"
          ]
        }
      ],
      "source": [
        "latent_dim = 100\n",
        "embedding_dim = 100\n",
        "\n",
        "#Encoder\n",
        "encoder_inputs = Input(shape=(max_len_text,))\n",
        "\n",
        "enc_embedding_layer = Embedding(len(word_index)+1, embedding_dim, weights=[embedding_matrix], input_length=max_len_text, trainable=True)\n",
        "\n",
        "#Embedding_layer\n",
        "enc_emb =  enc_embedding_layer(encoder_inputs)\n",
        "#enc_emb = Embedding(len(word_index)+1,embedding_dim,trainable=True)(encoder_inputs)\n",
        "#encoder lstm1\n",
        "encoder_lstm1 = LSTM(latent_dim,return_sequences=True,return_state=True,dropout=0.4,recurrent_dropout=0.4)\n",
        "encoder_output1, state_h1, state_c1 = encoder_lstm1(enc_emb)\n",
        "\n",
        "#encoder lstm 2\n",
        "encoder_lstm2 = LSTM(latent_dim,return_sequences=True,return_state=True,dropout=0.4,recurrent_dropout=0.4)\n",
        "encoder_output2, state_h2, state_c2 = encoder_lstm2(encoder_output1)\n",
        "\n",
        "#encoder lstm 3\n",
        "encoder_lstm3=LSTM(latent_dim, return_state=True, return_sequences=True,dropout=0.4,recurrent_dropout=0.4)\n",
        "encoder_outputs, state_h, state_c= encoder_lstm3(encoder_output2)\n",
        "\n",
        "# Set up the decoder, using `encoder_states` as initial state.\n",
        "decoder_inputs = Input(shape=(None,))\n",
        "\n",
        "#embedding layer\n",
        "dec_emb_layer = Embedding(len(y_word_index)+1, embedding_dim, weights=[y_embedding_matrix], trainable=True)\n",
        "\n",
        "#dec_emb_layer = Embedding(len(y_word_index)+1,embedding_dim, trainable=True)\n",
        "dec_emb = dec_emb_layer(decoder_inputs)\n",
        "\n",
        "decoder_lstm = LSTM(latent_dim, return_sequences=True, return_state=True, dropout=0.4, recurrent_dropout=0.2)\n",
        "decoder_outputs,decoder_fwd_state, decoder_back_state = decoder_lstm(dec_emb,initial_state=[state_h, state_c])\n",
        "\n",
        "# Attention layer\n",
        "attn_layer = AttentionLayer(name='attention_layer')\n",
        "attn_out, attn_states = attn_layer([encoder_outputs, decoder_outputs])\n",
        "\n",
        "# Concat attention input and decoder LSTM output\n",
        "decoder_concat_input = Concatenate(axis=-1, name='concat_layer')([decoder_outputs, attn_out])\n",
        "\n",
        "#dense layer\n",
        "decoder_dense =  TimeDistributed(Dense(len(y_word_index)+1, activation='softmax'))\n",
        "decoder_outputs = decoder_dense(decoder_concat_input)\n",
        "# Define the model\n",
        "model = Model([encoder_inputs, decoder_inputs], decoder_outputs)\n",
        "\n",
        "model.summary()"
      ]
    },
    {
      "cell_type": "code",
      "execution_count": null,
      "metadata": {
        "id": "8z0QeSR1uufx"
      },
      "outputs": [],
      "source": [
        "model.compile(optimizer='rmsprop', loss='sparse_categorical_crossentropy')"
      ]
    },
    {
      "cell_type": "code",
      "execution_count": null,
      "metadata": {
        "id": "B0dVhDzVIIWi"
      },
      "outputs": [],
      "source": [
        "es = EarlyStopping(monitor='val_loss', mode='min', verbose=1,patience=2)"
      ]
    },
    {
      "cell_type": "code",
      "execution_count": null,
      "metadata": {
        "colab": {
          "base_uri": "https://localhost:8080/"
        },
        "id": "mA3jPT767nMm",
        "outputId": "0ecdb81d-c82c-47d5-8ca1-df3ded7cde1e"
      },
      "outputs": [
        {
          "output_type": "stream",
          "name": "stdout",
          "text": [
            "Epoch 1/50\n",
            "219/219 [==============================] - 200s 855ms/step - loss: 6.1473 - val_loss: 5.3477\n",
            "Epoch 2/50\n",
            "219/219 [==============================] - 180s 821ms/step - loss: 5.5639 - val_loss: 5.1864\n",
            "Epoch 3/50\n",
            "219/219 [==============================] - 177s 810ms/step - loss: 5.5070 - val_loss: 5.1537\n",
            "Epoch 4/50\n",
            "219/219 [==============================] - 178s 812ms/step - loss: 5.4593 - val_loss: 5.1012\n",
            "Epoch 5/50\n",
            "219/219 [==============================] - 178s 815ms/step - loss: 5.4150 - val_loss: 5.0673\n",
            "Epoch 6/50\n",
            "219/219 [==============================] - 179s 817ms/step - loss: 5.3531 - val_loss: 5.0350\n",
            "Epoch 7/50\n",
            "219/219 [==============================] - 180s 824ms/step - loss: 5.3081 - val_loss: 5.0105\n",
            "Epoch 8/50\n",
            "219/219 [==============================] - 184s 842ms/step - loss: 5.2680 - val_loss: 4.9980\n",
            "Epoch 9/50\n",
            "219/219 [==============================] - 180s 824ms/step - loss: 5.2294 - val_loss: 4.9643\n",
            "Epoch 10/50\n",
            "219/219 [==============================] - 181s 829ms/step - loss: 5.1882 - val_loss: 4.9389\n",
            "Epoch 11/50\n",
            "219/219 [==============================] - 178s 813ms/step - loss: 5.1441 - val_loss: 4.9289\n",
            "Epoch 12/50\n",
            "219/219 [==============================] - 178s 813ms/step - loss: 5.0977 - val_loss: 4.8757\n",
            "Epoch 13/50\n",
            "219/219 [==============================] - 180s 822ms/step - loss: 5.0463 - val_loss: 4.8640\n",
            "Epoch 14/50\n",
            "219/219 [==============================] - 178s 813ms/step - loss: 4.9825 - val_loss: 4.7907\n",
            "Epoch 15/50\n",
            "219/219 [==============================] - 179s 816ms/step - loss: 4.9186 - val_loss: 4.7581\n",
            "Epoch 16/50\n",
            "219/219 [==============================] - 178s 812ms/step - loss: 4.8632 - val_loss: 4.7209\n",
            "Epoch 17/50\n",
            "219/219 [==============================] - 179s 816ms/step - loss: 4.8114 - val_loss: 4.7171\n",
            "Epoch 18/50\n",
            "219/219 [==============================] - 178s 812ms/step - loss: 4.7634 - val_loss: 4.6725\n",
            "Epoch 19/50\n",
            "219/219 [==============================] - 177s 810ms/step - loss: 4.7139 - val_loss: 4.6495\n",
            "Epoch 20/50\n",
            "219/219 [==============================] - 176s 806ms/step - loss: 4.6675 - val_loss: 4.6351\n",
            "Epoch 21/50\n",
            "219/219 [==============================] - 181s 828ms/step - loss: 4.6184 - val_loss: 4.6356\n",
            "Epoch 22/50\n",
            "219/219 [==============================] - 176s 804ms/step - loss: 4.5694 - val_loss: 4.5940\n",
            "Epoch 23/50\n",
            "  2/219 [..............................] - ETA: 2:28 - loss: 4.4258"
          ]
        }
      ],
      "source": [
        "history=model.fit([padded_seq_tr, y_seq_tr[:,:-1]],\n",
        "                  y_seq_tr.reshape(y_seq_tr.shape[0], y_seq_tr.shape[1], 1)[:,1:],\n",
        "                  epochs=50,\n",
        "                  callbacks=[es],\n",
        "                  batch_size=64,\n",
        "                  validation_data=([padded_seq_val,y_seq_val[:,:-1]], y_seq_val.reshape(y_seq_val.shape[0],y_seq_val.shape[1], 1)[:,1:])\n",
        "                 )"
      ]
    },
    {
      "cell_type": "code",
      "execution_count": null,
      "metadata": {
        "id": "S28Im1iO-S4H",
        "colab": {
          "base_uri": "https://localhost:8080/",
          "height": 430
        },
        "outputId": "2b762182-9362-4824-d5f3-a8176136635a"
      },
      "outputs": [
        {
          "output_type": "display_data",
          "data": {
            "text/plain": [
              "<Figure size 640x480 with 1 Axes>"
            ],
            "image/png": "[encoded data removed]"
          },
          "metadata": {}
        }
      ],
      "source": [
        "from matplotlib import pyplot\n",
        "pyplot.plot(history.history['loss'], label='train')\n",
        "pyplot.plot(history.history['val_loss'], label='test')\n",
        "pyplot.legend()\n",
        "pyplot.show()"
      ]
    },
    {
      "cell_type": "code",
      "source": [
        "reverse_target_word_index=y_tokenizer.index_word\n",
        "reverse_source_word_index=x_tokenizer.index_word\n",
        "target_word_index=y_tokenizer.word_index"
      ],
      "metadata": {
        "id": "7dqdxlGGaK9v"
      },
      "execution_count": null,
      "outputs": []
    },
    {
      "cell_type": "code",
      "execution_count": null,
      "metadata": {
        "id": "26y20XGRYRbl"
      },
      "outputs": [],
      "source": [
        "# Encode the input sequence to get the feature vector\n",
        "encoder_model = Model(inputs=encoder_inputs, outputs=[encoder_outputs, state_h, state_c])\n",
        "\n",
        "# Decoder setup\n",
        "# Below tensors will hold the states of the previous time step\n",
        "decoder_state_input_h = Input(shape=(latent_dim,))\n",
        "decoder_state_input_c = Input(shape=(latent_dim,))\n",
        "decoder_hidden_state_input = Input(shape=(max_len_text,latent_dim))\n",
        "\n",
        "# Get the embeddings of the decoder sequence\n",
        "dec_emb2= dec_emb_layer(decoder_inputs)\n",
        "# To predict the next word in the sequence, set the initial states to the states from the previous time step\n",
        "decoder_outputs2, state_h2, state_c2 = decoder_lstm(dec_emb2, initial_state=[decoder_state_input_h, decoder_state_input_c])\n",
        "\n",
        "#attention inference\n",
        "attn_out_inf, attn_states_inf = attn_layer([decoder_hidden_state_input, decoder_outputs2])\n",
        "decoder_inf_concat = Concatenate(axis=-1, name='concat')([decoder_outputs2, attn_out_inf])\n",
        "\n",
        "# A dense softmax layer to generate prob dist. over the target vocabulary\n",
        "decoder_outputs2 = decoder_dense(decoder_inf_concat)\n",
        "\n",
        "# Final decoder model\n",
        "decoder_model = Model(\n",
        "    [decoder_inputs] + [decoder_hidden_state_input,decoder_state_input_h, decoder_state_input_c],\n",
        "    [decoder_outputs2] + [state_h2, state_c2])"
      ]
    },
    {
      "cell_type": "code",
      "execution_count": null,
      "metadata": {
        "id": "jGfFFWeLYWqx"
      },
      "outputs": [],
      "source": [
        "def decode_sequence(input_seq):\n",
        "    # Encode the input as state vectors.\n",
        "    e_out, e_h, e_c = encoder_model.predict(input_seq)\n",
        "\n",
        "    # Generate empty target sequence of length 1.\n",
        "    target_seq = np.zeros((1,1))\n",
        "\n",
        "    # Populate the first word of target sequence with the start word.\n",
        "    target_seq[0, 0] = target_word_index['sostok']\n",
        "\n",
        "    stop_condition = False\n",
        "    decoded_sentence = ''\n",
        "    while not stop_condition:\n",
        "\n",
        "        output_tokens, h, c = decoder_model.predict([target_seq] + [e_out,e_h, e_c])\n",
        "        #print(output_tokens)\n",
        "        #return\n",
        "        # Sample a token\n",
        "        sampled_token_index = np.argmax(output_tokens[0, -1, :])\n",
        "        sampled_token = reverse_target_word_index[sampled_token_index]\n",
        "\n",
        "        if(sampled_token!='eostok'):\n",
        "            decoded_sentence += ' '+sampled_token\n",
        "\n",
        "        # Exit condition: either hit max length or find stop word.\n",
        "        if (sampled_token == 'eostok'  or len(decoded_sentence.split()) >= (max_len_head-1)):\n",
        "            stop_condition = True\n",
        "\n",
        "        # Update the target sequence (of length 1).\n",
        "        target_seq = np.zeros((1,1))\n",
        "        target_seq[0, 0] = sampled_token_index\n",
        "\n",
        "        # Update internal states\n",
        "        e_h, e_c = h, c\n",
        "    return decoded_sentence"
      ]
    },
    {
      "cell_type": "code",
      "execution_count": null,
      "metadata": {
        "id": "iTRuv6CGYvrr"
      },
      "outputs": [],
      "source": [
        "def seq2summary(input_seq):\n",
        "    newString=''\n",
        "    for i in input_seq:\n",
        "        if((i!=0 and i!=target_word_index['sostok']) and i!=target_word_index['eostok']):\n",
        "            newString=newString+reverse_target_word_index[i]+' '\n",
        "    return newString\n",
        "\n",
        "def seq2text(input_seq):\n",
        "    newString=''\n",
        "    for i in input_seq:\n",
        "        if(i!=0):\n",
        "            newString=newString+reverse_source_word_index[i]+' '\n",
        "    return newString"
      ]
    },
    {
      "cell_type": "code",
      "execution_count": null,
      "metadata": {
        "id": "16o_-H7mYwhf",
        "colab": {
          "base_uri": "https://localhost:8080/"
        },
        "outputId": "29129e74-a5ad-41dd-b848-9ee8296da366"
      },
      "outputs": [
        {
          "output_type": "stream",
          "name": "stdout",
          "text": [
            "Review: over 20 girls who were rescued from deoria shelter home after allegations of abuse were kept at a children home for boys for a week before being shifted to separate shelter homes this was revealed in a report by national commission for protection of child rights the girls were not provided a comfortable and safe space to recover report added \n",
            "Original summary: girls rescued from deoria shelter kept at boys home report \n",
            "1/1 [==============================] - 1s 618ms/step\n",
            "1/1 [==============================] - 0s 406ms/step\n",
            "1/1 [==============================] - 0s 22ms/step\n",
            "1/1 [==============================] - 0s 20ms/step\n",
            "1/1 [==============================] - 0s 20ms/step\n",
            "1/1 [==============================] - 0s 20ms/step\n",
            "1/1 [==============================] - 0s 20ms/step\n",
            "1/1 [==============================] - 0s 20ms/step\n",
            "1/1 [==============================] - 0s 20ms/step\n",
            "1/1 [==============================] - 0s 20ms/step\n",
            "1/1 [==============================] - 0s 21ms/step\n",
            "1/1 [==============================] - 0s 20ms/step\n",
            "Predicted summary:  2 dead in school shelter home in bihar shelter home\n",
            "\n",
            "\n",
            "Review: talking about foreign companies building their business in india makemytrip ceo deep kalra has said we go overboard when we say atithi devo bhava further talking about not having a dearth of smart people in the country he also said we can create and build our own ecosystem that we are proud of n \n",
            "Original summary: we go overboard when we say atithi devo bhava makemytrip ceo \n",
            "1/1 [==============================] - 0s 70ms/step\n",
            "1/1 [==============================] - 0s 19ms/step\n",
            "1/1 [==============================] - 0s 19ms/step\n",
            "1/1 [==============================] - 0s 19ms/step\n",
            "1/1 [==============================] - 0s 19ms/step\n",
            "1/1 [==============================] - 0s 22ms/step\n",
            "1/1 [==============================] - 0s 30ms/step\n",
            "1/1 [==============================] - 0s 19ms/step\n",
            "1/1 [==============================] - 0s 18ms/step\n",
            "1/1 [==============================] - 0s 19ms/step\n",
            "1/1 [==============================] - 0s 22ms/step\n",
            "1/1 [==============================] - 0s 19ms/step\n",
            "1/1 [==============================] - 0s 26ms/step\n",
            "1/1 [==============================] - 0s 20ms/step\n",
            "Predicted summary:  i am not believe to stop me in a car airways ceo\n",
            "\n",
            "\n",
            "Review: pakistan blocked phone services in major cities on friday amid islamist protests against the acquittal of christian woman asia bibi in a blasphemy case the hardline tehreek e labbaik group which is leading the opposition has called for the death of the judges who presided over the case pakistan pm imran khan has warned the protestors against inciting violence \n",
            "Original summary: pak blocks phone services amid protests against christian woman \n",
            "1/1 [==============================] - 0s 66ms/step\n",
            "1/1 [==============================] - 0s 18ms/step\n",
            "1/1 [==============================] - 0s 19ms/step\n",
            "1/1 [==============================] - 0s 29ms/step\n",
            "1/1 [==============================] - 0s 20ms/step\n",
            "1/1 [==============================] - 0s 20ms/step\n",
            "1/1 [==============================] - 0s 21ms/step\n",
            "1/1 [==============================] - 0s 21ms/step\n",
            "1/1 [==============================] - 0s 18ms/step\n",
            "1/1 [==============================] - 0s 18ms/step\n",
            "1/1 [==============================] - 0s 18ms/step\n",
            "Predicted summary:  pak pak minister suspended for sexual harassment against pak\n",
            "\n",
            "\n",
            "Review: the share price of mukesh ambani led reliance industries crossed 1 300 for the first time on tuesday taking the oil to telecom conglomerate market value to over 8 35 trillion the stock has risen about 43 5 so far this year compared to a 14 2 rise in the benchmark sensex reliance industries became india first 8 trillion company last week \n",
            "Original summary: ril stock tops 1 300 for first time m cap at 8 35 trillion \n",
            "1/1 [==============================] - 0s 70ms/step\n",
            "1/1 [==============================] - 0s 18ms/step\n",
            "1/1 [==============================] - 0s 19ms/step\n",
            "1/1 [==============================] - 0s 20ms/step\n",
            "1/1 [==============================] - 0s 21ms/step\n",
            "1/1 [==============================] - 0s 19ms/step\n",
            "1/1 [==============================] - 0s 19ms/step\n",
            "1/1 [==============================] - 0s 22ms/step\n",
            "1/1 [==============================] - 0s 20ms/step\n",
            "1/1 [==============================] - 0s 21ms/step\n",
            "1/1 [==============================] - 0s 19ms/step\n",
            "1/1 [==============================] - 0s 18ms/step\n",
            "Predicted summary:  reliance industries to buy india to buy india in india\n",
            "\n",
            "\n",
            "Review: samajwadi secular morcha founder shivpal yadav has said he is open to the idea of joining a proposed grand alliance of opposition parties in uttar pradesh yadav who had formed the morcha following differences with samajwadi party chief akhilesh yadav had earlier said he felt neglected by sp meanwhile yadav said the morcha will contest the 2019 lok sabha elections \n",
            "Original summary: open to idea of grand alliance in up says shivpal yadav \n",
            "1/1 [==============================] - 0s 70ms/step\n",
            "1/1 [==============================] - 0s 20ms/step\n",
            "1/1 [==============================] - 0s 19ms/step\n",
            "1/1 [==============================] - 0s 25ms/step\n",
            "1/1 [==============================] - 0s 19ms/step\n",
            "1/1 [==============================] - 0s 20ms/step\n",
            "1/1 [==============================] - 0s 19ms/step\n",
            "1/1 [==============================] - 0s 20ms/step\n",
            "1/1 [==============================] - 0s 25ms/step\n",
            "1/1 [==============================] - 0s 20ms/step\n",
            "1/1 [==============================] - 0s 23ms/step\n",
            "1/1 [==============================] - 0s 19ms/step\n",
            "Predicted summary:  shivpal yadav is alliance with bjp leader in ls polls\n",
            "\n",
            "\n",
            "Review: shraddha kapoor who will be portraying saina nehwal in her upcoming biopic took to social media and congratulated saina for becoming the first indian woman to win a bronze medal at the asian games 2018 in badminton singles congratulations saina a great effort and a well played match anil kapoor tweeted saina lost the semi final against tai tzu ying \n",
            "Original summary: shraddha anil congratulate saina on her win at asian games \n",
            "1/1 [==============================] - 0s 73ms/step\n",
            "1/1 [==============================] - 0s 20ms/step\n",
            "1/1 [==============================] - 0s 35ms/step\n",
            "1/1 [==============================] - 0s 29ms/step\n",
            "1/1 [==============================] - 0s 32ms/step\n",
            "1/1 [==============================] - 0s 33ms/step\n",
            "1/1 [==============================] - 0s 29ms/step\n",
            "1/1 [==============================] - 0s 31ms/step\n",
            "1/1 [==============================] - 0s 30ms/step\n",
            "1/1 [==============================] - 0s 30ms/step\n",
            "1/1 [==============================] - 0s 29ms/step\n",
            "1/1 [==============================] - 0s 28ms/step\n",
            "1/1 [==============================] - 0s 29ms/step\n",
            "1/1 [==============================] - 0s 35ms/step\n",
            "Predicted summary:  arjun kapoor to play in 2018 in 2018 film in 2018 report\n",
            "\n",
            "\n",
            "Review: bharatiya janata party longest serving chief minister chhattisgarh raman singh has submitted his resignation letter to the state governor anandiben patel i take the moral responsibility for the party defeat we will play the role of a constructive opposition singh who served as cm for 15 years said he added we will discuss within the party the reasons for the defeat \n",
            "Original summary: bjp longest serving cm chhattisgarh raman singh resigns \n",
            "1/1 [==============================] - 0s 107ms/step\n",
            "1/1 [==============================] - 0s 28ms/step\n",
            "1/1 [==============================] - 0s 30ms/step\n",
            "1/1 [==============================] - 0s 29ms/step\n",
            "1/1 [==============================] - 0s 29ms/step\n",
            "1/1 [==============================] - 0s 29ms/step\n",
            "1/1 [==============================] - 0s 29ms/step\n",
            "1/1 [==============================] - 0s 27ms/step\n",
            "1/1 [==============================] - 0s 33ms/step\n",
            "1/1 [==============================] - 0s 31ms/step\n",
            "1/1 [==============================] - 0s 29ms/step\n",
            "1/1 [==============================] - 0s 36ms/step\n",
            "1/1 [==============================] - 0s 31ms/step\n",
            "1/1 [==============================] - 0s 31ms/step\n",
            "Predicted summary:  congress will be a alliance with ex bjp leader in 2019 polls\n",
            "\n",
            "\n",
            "Review: former union minister p chidambaram on wednesday expressed concern on reports that the government had invoked an unused section of the rbi act saying that the centre is hiding facts about the economy and is desperate i am afraid there will be bad news today he added section 7 of the rbi act allows the government to issue directions to the rbi \n",
            "Original summary: government desperate hiding facts on economy chidambaram \n",
            "1/1 [==============================] - 0s 113ms/step\n",
            "1/1 [==============================] - 0s 31ms/step\n",
            "1/1 [==============================] - 0s 31ms/step\n",
            "1/1 [==============================] - 0s 31ms/step\n",
            "1/1 [==============================] - 0s 21ms/step\n",
            "1/1 [==============================] - 0s 20ms/step\n",
            "1/1 [==============================] - 0s 20ms/step\n",
            "1/1 [==============================] - 0s 21ms/step\n",
            "1/1 [==============================] - 0s 21ms/step\n",
            "1/1 [==============================] - 0s 20ms/step\n",
            "1/1 [==============================] - 0s 21ms/step\n",
            "1/1 [==============================] - 0s 19ms/step\n",
            "1/1 [==============================] - 0s 20ms/step\n",
            "1/1 [==============================] - 0s 19ms/step\n",
            "1/1 [==============================] - 0s 18ms/step\n",
            "Predicted summary:  rbi guv patel is a govt to give rafale deal in rafale deal\n",
            "\n",
            "\n",
            "Review: coffee giant starbucks has announced it will block access to pornography on its free wifi in all its us outlets from 2019 responding to this pornography website youporn said it will ban starbucks coffee in its offices from january 1 notably mcdonald started blocking porn on its wifi networks in the us in 2016 after pressure from a non profit group n \n",
            "Original summary: starbucks bans porn on wifi youporn bans starbucks in its offices \n",
            "1/1 [==============================] - 0s 70ms/step\n",
            "1/1 [==============================] - 0s 19ms/step\n",
            "1/1 [==============================] - 0s 20ms/step\n",
            "1/1 [==============================] - 0s 19ms/step\n",
            "1/1 [==============================] - 0s 19ms/step\n",
            "1/1 [==============================] - 0s 22ms/step\n",
            "1/1 [==============================] - 0s 22ms/step\n",
            "1/1 [==============================] - 0s 24ms/step\n",
            "1/1 [==============================] - 0s 21ms/step\n",
            "1/1 [==============================] - 0s 27ms/step\n",
            "Predicted summary:  apple to launch its its its political apps\n",
            "\n",
            "\n",
            "Review: world wide web creator tim berners lee has launched a campaign to persuade governments and organisations to sign a contract for the web designed to make internet safer the contract starting principles have already received endorsement from over 50 organisations and companies including google and facebook people will be able to get involved by using the hashtag fortheweb he said \n",
            "Original summary: world wide web creator launches campaign for safe internet \n",
            "1/1 [==============================] - 0s 63ms/step\n",
            "1/1 [==============================] - 0s 20ms/step\n",
            "1/1 [==============================] - 0s 19ms/step\n",
            "1/1 [==============================] - 0s 19ms/step\n",
            "1/1 [==============================] - 0s 19ms/step\n",
            "1/1 [==============================] - 0s 24ms/step\n",
            "1/1 [==============================] - 0s 20ms/step\n",
            "1/1 [==============================] - 0s 19ms/step\n",
            "1/1 [==============================] - 0s 19ms/step\n",
            "1/1 [==============================] - 0s 20ms/step\n",
            "1/1 [==============================] - 0s 19ms/step\n",
            "1/1 [==============================] - 0s 20ms/step\n",
            "Predicted summary:  china launches its 1st time to let its web apps\n",
            "\n",
            "\n",
            "Review: after pm narendra modi criticised him for his pm with 56 inch chest hid behind woman defence minister remark congress president rahul gandhi tweeted with all due respect modi ji in our culture respect for women begins at home rahul added stop shaking be a man and answer my question did defence ministry object when you bypassed the original rafale deal \n",
            "Original summary: be a man rahul to pm modi after pm hid behind woman remark \n",
            "1/1 [==============================] - 0s 73ms/step\n",
            "1/1 [==============================] - 0s 20ms/step\n",
            "1/1 [==============================] - 0s 19ms/step\n",
            "1/1 [==============================] - 0s 21ms/step\n",
            "1/1 [==============================] - 0s 21ms/step\n",
            "1/1 [==============================] - 0s 19ms/step\n",
            "1/1 [==============================] - 0s 20ms/step\n",
            "1/1 [==============================] - 0s 20ms/step\n",
            "1/1 [==============================] - 0s 19ms/step\n",
            "1/1 [==============================] - 0s 20ms/step\n",
            "1/1 [==============================] - 0s 21ms/step\n",
            "1/1 [==============================] - 0s 21ms/step\n",
            "1/1 [==============================] - 0s 21ms/step\n",
            "1/1 [==============================] - 0s 22ms/step\n",
            "1/1 [==============================] - 0s 20ms/step\n",
            "Predicted summary:  rahul gandhi is a day of pm modi on rafale deal pm modi\n",
            "\n",
            "\n",
            "Review: us based craft and floral products company named floracraft owner lee schoenherr announced at a company lunch that a 28 crore christmas bonus will be divided amongst all of its 200 employees this is to show you my appreciation for the hard work that you do it does not go unnoticed lee said the bonus was kept a secret and codenamed green bucks \n",
            "Original summary: us company owner gives 28 crore christmas bonus to 200 employees \n",
            "1/1 [==============================] - 0s 66ms/step\n",
            "1/1 [==============================] - 0s 19ms/step\n",
            "1/1 [==============================] - 0s 22ms/step\n",
            "1/1 [==============================] - 0s 19ms/step\n",
            "1/1 [==============================] - 0s 19ms/step\n",
            "1/1 [==============================] - 0s 19ms/step\n",
            "1/1 [==============================] - 0s 19ms/step\n",
            "1/1 [==============================] - 0s 19ms/step\n",
            "1/1 [==============================] - 0s 20ms/step\n",
            "1/1 [==============================] - 0s 20ms/step\n",
            "1/1 [==============================] - 0s 21ms/step\n",
            "1/1 [==============================] - 0s 20ms/step\n",
            "1/1 [==============================] - 0s 20ms/step\n",
            "1/1 [==============================] - 0s 22ms/step\n",
            "1/1 [==============================] - 0s 19ms/step\n",
            "Predicted summary:  china firm founder buys 1 000 crore in us for 1 200 crore\n",
            "\n",
            "\n",
            "Review: over 120 security personnel were killed in a taliban attack on a military base in afghanistan on monday an official in afghanistan defence ministry said attackers rammed a captured military humvee packed with explosives into a national directorate of security training centre in maidan wardak province two gunmen also entered the campus and opened fire before they were shot down \n",
            "Original summary: taliban attack on afghan security base kills over 120 \n",
            "1/1 [==============================] - 0s 70ms/step\n",
            "1/1 [==============================] - 0s 20ms/step\n",
            "1/1 [==============================] - 0s 19ms/step\n",
            "1/1 [==============================] - 0s 19ms/step\n",
            "1/1 [==============================] - 0s 20ms/step\n",
            "1/1 [==============================] - 0s 19ms/step\n",
            "1/1 [==============================] - 0s 21ms/step\n",
            "1/1 [==============================] - 0s 21ms/step\n",
            "1/1 [==============================] - 0s 21ms/step\n",
            "1/1 [==============================] - 0s 22ms/step\n",
            "1/1 [==============================] - 0s 19ms/step\n",
            "Predicted summary:  taliban attack in afghan attack in afghanistan in afghanistan\n",
            "\n",
            "\n",
            "Review: after a man attacked delhi cm arvind kejriwal with red chilli powder inside delhi secretariat on tuesday delhi police said probe is underway whether it was an attack or the powder fell unintentionally amazing that delhipolice is investigating whether it was an attack or powder fell unintentionally when the cctv footage clearly shows it is an attack aap leader atishi tweeted \n",
            "Original summary: have to check if chilli attack on delhi cm unintentional police \n",
            "1/1 [==============================] - 0s 72ms/step\n",
            "1/1 [==============================] - 0s 20ms/step\n",
            "1/1 [==============================] - 0s 21ms/step\n",
            "1/1 [==============================] - 0s 21ms/step\n",
            "1/1 [==============================] - 0s 20ms/step\n",
            "1/1 [==============================] - 0s 20ms/step\n",
            "1/1 [==============================] - 0s 19ms/step\n",
            "1/1 [==============================] - 0s 22ms/step\n",
            "1/1 [==============================] - 0s 19ms/step\n",
            "1/1 [==============================] - 0s 21ms/step\n",
            "Predicted summary:  up policeman in bulandshahr blast in bulandshahr violence\n",
            "\n",
            "\n",
            "Review: flipkart co founder and group ceo binny bansal said american retail chain walmart absolutely underpaid for the e commerce startup 77 stake in the 16 billion deal that ll be very clear 5 10 years down the line he added for walmart it made sense to partner with flipkart flipkart was the only option to make a play in india bansal said \n",
            "Original summary: walmart absolutely underpaid for flipkart binny bansal \n",
            "1/1 [==============================] - 0s 70ms/step\n",
            "1/1 [==============================] - 0s 21ms/step\n",
            "1/1 [==============================] - 0s 21ms/step\n",
            "1/1 [==============================] - 0s 21ms/step\n",
            "1/1 [==============================] - 0s 20ms/step\n",
            "1/1 [==============================] - 0s 19ms/step\n",
            "1/1 [==============================] - 0s 20ms/step\n",
            "1/1 [==============================] - 0s 20ms/step\n",
            "1/1 [==============================] - 0s 20ms/step\n",
            "1/1 [==============================] - 0s 21ms/step\n",
            "1/1 [==============================] - 0s 22ms/step\n",
            "1/1 [==============================] - 0s 23ms/step\n",
            "Predicted summary:  flipkart co founder founder bansal bansal to raise 1 billion\n",
            "\n",
            "\n",
            "Review: a us lawmaker on tuesday asked google ceo sundar pichai that why do us president donald trump pictures show up on google search for idiot pichai explained we take the keyword match it against web pages and rank them based on over 200 signals like popularity and how people are using it based on that we find the search results pichai added \n",
            "Original summary: why google search for idiot shows trump pics us senate to pichai \n",
            "1/1 [==============================] - 0s 72ms/step\n",
            "1/1 [==============================] - 0s 19ms/step\n",
            "1/1 [==============================] - 0s 19ms/step\n",
            "1/1 [==============================] - 0s 20ms/step\n",
            "1/1 [==============================] - 0s 19ms/step\n",
            "1/1 [==============================] - 0s 23ms/step\n",
            "1/1 [==============================] - 0s 19ms/step\n",
            "1/1 [==============================] - 0s 19ms/step\n",
            "1/1 [==============================] - 0s 19ms/step\n",
            "Predicted summary:  twitter ceo denies facebook for sexual harassment\n",
            "\n",
            "\n",
            "Review: exiled tibetan spiritual leader the dalai lama has said in order to create a peaceful world first demilitarise the nations for sincerely external disarmament firstly we should create inner disarmament he added while speaking at an event in delhi he said tibetans are not seeking independence from the chinese government but we want them to recognise tibetans culture under tibetan autonomy \n",
            "Original summary: demilitarise nations to create peaceful world dalai lama \n",
            "1/1 [==============================] - 0s 66ms/step\n",
            "1/1 [==============================] - 0s 22ms/step\n",
            "1/1 [==============================] - 0s 20ms/step\n",
            "1/1 [==============================] - 0s 21ms/step\n",
            "1/1 [==============================] - 0s 21ms/step\n",
            "1/1 [==============================] - 0s 21ms/step\n",
            "1/1 [==============================] - 0s 20ms/step\n",
            "1/1 [==============================] - 0s 20ms/step\n",
            "1/1 [==============================] - 0s 19ms/step\n",
            "1/1 [==============================] - 0s 21ms/step\n",
            "1/1 [==============================] - 0s 20ms/step\n",
            "1/1 [==============================] - 0s 19ms/step\n",
            "1/1 [==============================] - 0s 20ms/step\n",
            "1/1 [==============================] - 0s 19ms/step\n",
            "1/1 [==============================] - 0s 21ms/step\n",
            "1/1 [==============================] - 0s 19ms/step\n",
            "Predicted summary:  will not need to be a world world cup to be a world dalai lama\n",
            "\n",
            "\n",
            "Review: while talking about the potential of web series actor emraan hashmi said that stories that were previously considered artsy are no longer left behind due to these digital platforms it is a big shift and many new stories are coming up the actor added emraan will be seen in the upcoming political thriller web series bard of blood \n",
            "Original summary: artsy stories no longer left behind emraan on web series \n",
            "1/1 [==============================] - 0s 69ms/step\n",
            "1/1 [==============================] - 0s 20ms/step\n",
            "1/1 [==============================] - 0s 18ms/step\n",
            "1/1 [==============================] - 0s 18ms/step\n",
            "1/1 [==============================] - 0s 21ms/step\n",
            "1/1 [==============================] - 0s 19ms/step\n",
            "1/1 [==============================] - 0s 18ms/step\n",
            "1/1 [==============================] - 0s 27ms/step\n",
            "1/1 [==============================] - 0s 20ms/step\n",
            "1/1 [==============================] - 0s 20ms/step\n",
            "1/1 [==============================] - 0s 19ms/step\n",
            "1/1 [==============================] - 0s 30ms/step\n",
            "1/1 [==============================] - 0s 29ms/step\n",
            "Predicted summary:  kangana to make a film of the film industry on metoo\n",
            "\n",
            "\n",
            "Review: while speaking about his upcoming film uri the surgical strike director aditya dhar said that the film is about fighting terrorism and is not anti pakistan we are not fighting against any individual or country we are fighting against the cross border terrorism that is happening aditya added the director further said that the film offers a balanced perspective \n",
            "Original summary: uri not anti pak it is about terrorism director aditya \n",
            "1/1 [==============================] - 0s 106ms/step\n",
            "1/1 [==============================] - 0s 29ms/step\n",
            "1/1 [==============================] - 0s 29ms/step\n",
            "1/1 [==============================] - 0s 36ms/step\n",
            "1/1 [==============================] - 0s 37ms/step\n",
            "1/1 [==============================] - 0s 29ms/step\n",
            "1/1 [==============================] - 0s 30ms/step\n",
            "1/1 [==============================] - 0s 29ms/step\n",
            "1/1 [==============================] - 0s 38ms/step\n",
            "1/1 [==============================] - 0s 35ms/step\n",
            "1/1 [==============================] - 0s 28ms/step\n",
            "1/1 [==============================] - 0s 39ms/step\n",
            "1/1 [==============================] - 0s 34ms/step\n",
            "Predicted summary:  no way to be in pakistan in pakistan in naseeruddin shah\n",
            "\n",
            "\n",
            "Review: after tanushree dutta filed a 10 crore defamation case against rakhi sawant for calling her sexual harassment allegations a lie and accusing her of taking drugs the latter threatened to file a 50 crore defamation case against her tanushree dutta has gone mad nothing of this sort ever happened have you seen my song with nana patekar he did not touch me said rakhi \n",
            "Original summary: rakhi sawant threatens tanushree of 50 crore defamation case \n",
            "1/1 [==============================] - 0s 95ms/step\n",
            "1/1 [==============================] - 0s 28ms/step\n",
            "1/1 [==============================] - 0s 30ms/step\n",
            "1/1 [==============================] - 0s 31ms/step\n",
            "1/1 [==============================] - 0s 29ms/step\n",
            "1/1 [==============================] - 0s 32ms/step\n",
            "1/1 [==============================] - 0s 35ms/step\n",
            "1/1 [==============================] - 0s 33ms/step\n",
            "1/1 [==============================] - 0s 27ms/step\n",
            "1/1 [==============================] - 0s 28ms/step\n",
            "1/1 [==============================] - 0s 35ms/step\n",
            "1/1 [==============================] - 0s 36ms/step\n",
            "Predicted summary:  alok nath files fir against sexual harassment against rape case\n",
            "\n",
            "\n"
          ]
        }
      ],
      "source": [
        "for i in range(0, 20):\n",
        "    print(\"Review:\",seq2text(padded_seq_tr[i]))\n",
        "    print(\"Original summary:\",seq2summary(y_seq_tr[i]))\n",
        "    print(\"Predicted summary:\",decode_sequence(padded_seq_tr[i].reshape(1,max_len_text)))\n",
        "    print(\"\\n\")"
      ]
    },
    {
      "cell_type": "code",
      "execution_count": null,
      "metadata": {
        "id": "oZL2TkYVDaET"
      },
      "outputs": [],
      "source": []
    }
  ],
  "metadata": {
    "accelerator": "GPU",
    "colab": {
      "gpuType": "T4",
      "provenance": [],
      "include_colab_link": true
    },
    "kernelspec": {
      "display_name": "Python 3",
      "name": "python3"
    },
    "language_info": {
      "name": "python"
    }
  },
  "nbformat": 4,
  "nbformat_minor": 0
}